{
 "cells": [
  {
   "cell_type": "markdown",
   "metadata": {},
   "source": [
    "A brief introduction to Python"
   ]
  },
  {
   "cell_type": "code",
   "execution_count": 1,
   "metadata": {},
   "outputs": [
    {
     "name": "stdout",
     "output_type": "stream",
     "text": [
      "--2018-02-12 13:45:00--  http://swcarpentry.github.io/python-novice-gapminder/files/python-novice-gapminder-data.zip\n",
      "Resolving swcarpentry.github.io... 2a04:4e42:2c::403, 151.101.185.147\n",
      "Connecting to swcarpentry.github.io|2a04:4e42:2c::403|:80... connected.\n",
      "HTTP request sent, awaiting response... 200 OK\n",
      "Length: 38471 (38K) [application/zip]\n",
      "Saving to: ‘python-novice-gapminder-data.zip’\n",
      "\n",
      "python-novice-gapmi 100%[===================>]  37.57K  --.-KB/s    in 0.02s   \n",
      "\n",
      "2018-02-12 13:45:00 (1.59 MB/s) - ‘python-novice-gapminder-data.zip’ saved [38471/38471]\n",
      "\n"
     ]
    }
   ],
   "source": [
    "!wget http://swcarpentry.github.io/python-novice-gapminder/files/python-novice-gapminder-data.zip"
   ]
  },
  {
   "cell_type": "code",
   "execution_count": null,
   "metadata": {},
   "outputs": [],
   "source": []
  }
 ],
 "metadata": {
  "kernelspec": {
   "display_name": "Python 3",
   "language": "python",
   "name": "python3"
  },
  "language_info": {
   "codemirror_mode": {
    "name": "ipython",
    "version": 3
   },
   "file_extension": ".py",
   "mimetype": "text/x-python",
   "name": "python",
   "nbconvert_exporter": "python",
   "pygments_lexer": "ipython3",
   "version": "3.6.4"
  }
 },
 "nbformat": 4,
 "nbformat_minor": 2
}

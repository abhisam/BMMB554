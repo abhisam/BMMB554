{
 "cells": [
  {
   "cell_type": "markdown",
   "metadata": {},
   "source": [
    "Below is implementation of the Change Problem using recursion"
   ]
  },
  {
   "cell_type": "code",
   "execution_count": null,
   "metadata": {
    "collapsed": true
   },
   "outputs": [],
   "source": [
    "def recMC(coinValueList,change):\n",
    "   minCoins = change\n",
    "   if change in coinValueList:\n",
    "     return 1\n",
    "   else:\n",
    "      for i in [c for c in coinValueList if c <= change]:\n",
    "         numCoins = 1 + recMC(coinValueList,change-i)\n",
    "         if numCoins < minCoins:\n",
    "            minCoins = numCoins\n",
    "   return minCoins\n",
    "\n",
    "print(recMC([1,5,10,25],63))"
   ]
  },
  {
   "cell_type": "markdown",
   "metadata": {},
   "source": [
    "Below is implementation of the Change Problem using Dynamic Programming"
   ]
  },
  {
   "cell_type": "code",
   "execution_count": null,
   "metadata": {
    "collapsed": false
   },
   "outputs": [],
   "source": [
    "def dpMakeChange(coinValueList,change,minCoins,coinsUsed):\n",
    "   for cents in range(change+1):\n",
    "      coinCount = cents\n",
    "      newCoin = 1\n",
    "      for j in [c for c in coinValueList if c <= cents]:\n",
    "            if minCoins[cents-j] + 1 < coinCount:\n",
    "               coinCount = minCoins[cents-j]+1\n",
    "               newCoin = j\n",
    "      minCoins[cents] = coinCount\n",
    "      coinsUsed[cents] = newCoin\n",
    "   return minCoins[change]\n",
    "\n",
    "def printCoins(coinsUsed,change):\n",
    "   coin = change\n",
    "   while coin > 0:\n",
    "      thisCoin = coinsUsed[coin]\n",
    "      print(thisCoin)\n",
    "      coin = coin - thisCoin\n",
    "\n",
    "def main():\n",
    "    amnt = 63\n",
    "    clist = [1,5,10,21,25]\n",
    "    coinsUsed = [0]*(amnt+1)\n",
    "    coinCount = [0]*(amnt+1)\n",
    "\n",
    "    print(\"Making change for\",amnt,\"requires\")\n",
    "    print(dpMakeChange(clist,amnt,coinCount,coinsUsed),\"coins\")\n",
    "    print(\"They are:\")\n",
    "    printCoins(coinsUsed,amnt)\n",
    "    print(\"The used list is as follows:\")\n",
    "    print(coinsUsed)\n",
    "\n",
    "main()\n"
   ]
  },
  {
   "cell_type": "code",
   "execution_count": null,
   "metadata": {
    "collapsed": true
   },
   "outputs": [],
   "source": [
    "import matplotlib.pylab as plt\n",
    "import numpy as np"
   ]
  },
  {
   "cell_type": "code",
   "execution_count": null,
   "metadata": {
    "collapsed": false
   },
   "outputs": [],
   "source": [
    "col_labels=['0','1','2','3','4']\n",
    "row_labels= ['0','1','2','3','4']\n",
    "table_vals= [\n",
    "    ['0','3','5','9',''],\n",
    "    ['', '', '', '13',''],\n",
    "    ['','','','15','19'],\n",
    "    ['','','','','20'],\n",
    "    ['','','','','23']]\n",
    "line = np.array([\n",
    "    [0, 1, 2, 3, 3, 3, 4, 4, 4 ],\n",
    "    [0, 0, 0, 0, 1, 2, 2, 3, 4 ]])    \n",
    "ncol = len(col_labels)\n",
    "nrow = len(row_labels)\n",
    "\n",
    "# draw grid lines\n",
    "plt.plot(np.tile([0, ncol+1], (nrow+2,1)).T, np.tile(np.arange(nrow+2), (2,1)),\n",
    "    'k', linewidth=3)\n",
    "plt.plot(np.tile(np.arange(ncol+2), (2,1)), np.tile([0, nrow+1], (ncol+2,1)).T,\n",
    "    'k', linewidth=3)\n",
    "\n",
    "# plot labels\n",
    "for icol, col in enumerate(col_labels):\n",
    "    plt.text(icol + 1.5, nrow + 0.5, col, ha='center', va='center')\n",
    "for irow, row in enumerate(row_labels):\n",
    "    plt.text(0.5, nrow - irow - 0.5, row, ha='center', va='center')\n",
    "\n",
    "# plot table content\n",
    "for irow, row in enumerate(table_vals):\n",
    "    for icol, cell in enumerate(row):\n",
    "        plt.text(icol + 1.5, nrow - irow - 0.5, cell, ha='center', va='center')\n",
    "\n",
    "# plot line\n",
    "plt.plot(line[0] + 1.5, nrow - line[1] - 0.5, 'r', linewidth = 5, alpha = 0.5)\n",
    "\n",
    "plt.axis([-0.5, ncol + 1.5, -0.5, nrow+1.5])\n",
    "plt.show()\n"
   ]
  },
  {
   "cell_type": "code",
   "execution_count": null,
   "metadata": {
    "collapsed": true
   },
   "outputs": [],
   "source": []
  }
 ],
 "metadata": {
  "kernelspec": {
   "display_name": "Python 2",
   "language": "python",
   "name": "python2"
  },
  "language_info": {
   "codemirror_mode": {
    "name": "ipython",
    "version": 2
   },
   "file_extension": ".py",
   "mimetype": "text/x-python",
   "name": "python",
   "nbconvert_exporter": "python",
   "pygments_lexer": "ipython2",
   "version": "2.7.11"
  }
 },
 "nbformat": 4,
 "nbformat_minor": 0
}

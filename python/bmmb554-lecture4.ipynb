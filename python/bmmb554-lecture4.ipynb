{
 "cells": [
  {
   "cell_type": "code",
   "execution_count": null,
   "metadata": {
    "collapsed": true
   },
   "outputs": [],
   "source": [
    "import matplotlib.pylab as plt\n",
    "import numpy as np"
   ]
  },
  {
   "cell_type": "code",
   "execution_count": null,
   "metadata": {
    "collapsed": false
   },
   "outputs": [],
   "source": [
    "col_labels=['0','1','2','3','4']\n",
    "row_labels= ['0','1','2','3','4']\n",
    "table_vals= [\n",
    "    ['0','3','5','9',''],\n",
    "    ['', '', '', '13',''],\n",
    "    ['','','','15','19'],\n",
    "    ['','','','','20'],\n",
    "    ['','','','','23']]\n",
    "line = np.array([\n",
    "    [0, 1, 2, 3, 3, 3, 4, 4, 4 ],\n",
    "    [0, 0, 0, 0, 1, 2, 2, 3, 4 ]])    \n",
    "ncol = len(col_labels)\n",
    "nrow = len(row_labels)\n",
    "\n",
    "# draw grid lines\n",
    "plt.plot(np.tile([0, ncol+1], (nrow+2,1)).T, np.tile(np.arange(nrow+2), (2,1)),\n",
    "    'k', linewidth=3)\n",
    "plt.plot(np.tile(np.arange(ncol+2), (2,1)), np.tile([0, nrow+1], (ncol+2,1)).T,\n",
    "    'k', linewidth=3)\n",
    "\n",
    "# plot labels\n",
    "for icol, col in enumerate(col_labels):\n",
    "    plt.text(icol + 1.5, nrow + 0.5, col, ha='center', va='center')\n",
    "for irow, row in enumerate(row_labels):\n",
    "    plt.text(0.5, nrow - irow - 0.5, row, ha='center', va='center')\n",
    "\n",
    "# plot table content\n",
    "for irow, row in enumerate(table_vals):\n",
    "    for icol, cell in enumerate(row):\n",
    "        plt.text(icol + 1.5, nrow - irow - 0.5, cell, ha='center', va='center')\n",
    "\n",
    "# plot line\n",
    "plt.plot(line[0] + 1.5, nrow - line[1] - 0.5, 'r', linewidth = 5, alpha = 0.5)\n",
    "\n",
    "plt.axis([-0.5, ncol + 1.5, -0.5, nrow+1.5])\n",
    "plt.show()\n"
   ]
  },
  {
   "cell_type": "code",
   "execution_count": null,
   "metadata": {
    "collapsed": true
   },
   "outputs": [],
   "source": [
    "def recMC(coinValueList,change):\n",
    "   minCoins = change\n",
    "   if change in coinValueList:\n",
    "     return 1\n",
    "   else:\n",
    "      for i in [c for c in coinValueList if c <= change]:\n",
    "         numCoins = 1 + recMC(coinValueList,change-i)\n",
    "         if numCoins < minCoins:\n",
    "            minCoins = numCoins\n",
    "   return minCoins\n",
    "\n",
    "print(recMC([1,5,10,25],63))"
   ]
  },
  {
   "cell_type": "code",
   "execution_count": 1,
   "metadata": {
    "collapsed": false
   },
   "outputs": [
    {
     "name": "stdout",
     "output_type": "stream",
     "text": [
      "6\n"
     ]
    }
   ],
   "source": [
    "def recDC(coinValueList,change,knownResults):\n",
    "   minCoins = change\n",
    "   if change in coinValueList:\n",
    "      knownResults[change] = 1\n",
    "      return 1\n",
    "   elif knownResults[change] > 0:\n",
    "      return knownResults[change]\n",
    "   else:\n",
    "       for i in [c for c in coinValueList if c <= change]:\n",
    "         numCoins = 1 + recDC(coinValueList, change-i,\n",
    "                              knownResults)\n",
    "         if numCoins < minCoins:\n",
    "            minCoins = numCoins\n",
    "            knownResults[change] = minCoins\n",
    "   return minCoins\n",
    "\n",
    "print(recDC([1,5,10,25],63,[0]*64))\n"
   ]
  },
  {
   "cell_type": "code",
   "execution_count": null,
   "metadata": {
    "collapsed": true
   },
   "outputs": [],
   "source": []
  }
 ],
 "metadata": {
  "kernelspec": {
   "display_name": "Python 2",
   "language": "python",
   "name": "python2"
  },
  "language_info": {
   "codemirror_mode": {
    "name": "ipython",
    "version": 2
   },
   "file_extension": ".py",
   "mimetype": "text/x-python",
   "name": "python",
   "nbconvert_exporter": "python",
   "pygments_lexer": "ipython2",
   "version": "2.7.11"
  }
 },
 "nbformat": 4,
 "nbformat_minor": 0
}

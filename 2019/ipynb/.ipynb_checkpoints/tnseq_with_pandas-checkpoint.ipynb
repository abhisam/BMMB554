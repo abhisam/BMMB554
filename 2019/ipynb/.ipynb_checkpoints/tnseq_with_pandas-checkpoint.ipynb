{
 "cells": [
  {
   "cell_type": "markdown",
   "metadata": {
    "colab_type": "text",
    "id": "1UZTRmZwvrJU"
   },
   "source": [
    "# Introduction to Pandas : Part 1\n",
    "-------\n",
    "This tutorial is heavily based on [Pandas in 10 min](https://pandas.pydata.org/pandas-docs/stable/10min.html). The original material waas modified by adding TnSeq data as examples. \n"
   ]
  },
  {
   "cell_type": "markdown",
   "metadata": {
    "colab_type": "text",
    "id": "k5bP0dhXvxLo"
   },
   "source": [
    "## Get datasets to play with"
   ]
  },
  {
   "cell_type": "code",
   "execution_count": null,
   "metadata": {
    "colab": {},
    "colab_type": "code",
    "id": "QzFHDmwfhvHn"
   },
   "outputs": [],
   "source": [
    "%%bash\n",
    "wget https://nekrut.github.io/BMMB554/tnseq_untreated.txt.gz\n",
    "wget https://nekrut.github.io/BMMB554/ta_gc.txt"
   ]
  },
  {
   "cell_type": "code",
   "execution_count": null,
   "metadata": {
    "colab": {},
    "colab_type": "code",
    "id": "8dS6V5FKJGzx"
   },
   "outputs": [],
   "source": [
    "data_file = 'tnseq_untreated.txt.gz'"
   ]
  },
  {
   "cell_type": "markdown",
   "metadata": {
    "colab_type": "text",
    "id": "d5UioPIlv3-U"
   },
   "source": [
    "The first dataset lists coordinates of `TA` sites and counts of reads for TnSeq constructs 'blunt', 'cap', 'dual', 'erm', 'pen', and 'tuf':"
   ]
  },
  {
   "cell_type": "code",
   "execution_count": null,
   "metadata": {
    "colab": {
     "base_uri": "https://localhost:8080/",
     "height": 187
    },
    "colab_type": "code",
    "id": "DaB3xMqj9zVm",
    "outputId": "ece1381b-c459-4fdd-e0e0-3728ba7ed31c"
   },
   "outputs": [],
   "source": [
    "!gunzip -c {data_file} | head"
   ]
  },
  {
   "cell_type": "code",
   "execution_count": null,
   "metadata": {
    "colab": {
     "base_uri": "https://localhost:8080/",
     "height": 51
    },
    "colab_type": "code",
    "id": "NzN0faRBduix",
    "outputId": "26d6fcb0-d59e-4b2c-9cc4-2cb7a7a4ebbb"
   },
   "outputs": [],
   "source": [
    "# Just two choices for beginning of of gene field\n",
    "!gunzip -c {data_file} | cut -f 8 | cut -f 1 -d '=' | sort | uniq -c"
   ]
  },
  {
   "cell_type": "code",
   "execution_count": null,
   "metadata": {
    "colab": {},
    "colab_type": "code",
    "id": "GLeYuYEycYBm"
   },
   "outputs": [],
   "source": [
    "# Process tnseq_untreated.txt.gz to correctly parse gene names\n",
    "\n",
    "import os\n",
    "f = open('data.txt','w')\n",
    "\n",
    "with os.popen('gunzip -c {}'.format(data_file)) as stream:\n",
    "  for line in stream:\n",
    "    if line.split( '\\t' )[7].startswith( '.' ):\n",
    "      f.write( '{}\\t{}\\n'.format( '\\t'.join( line.split( '\\t' )[:7] ) , 'intergenic'  ) )\n",
    "    elif line.split( '\\t' )[7].startswith( 'ID' ):\n",
    "      f.write( '{}\\t{}\\n'.format( '\\t'.join( line.split( '\\t' )[:7] ) , line.split( '\\t' )[7].split(';')[0][3:] ) )\n",
    "f.close()"
   ]
  },
  {
   "cell_type": "code",
   "execution_count": null,
   "metadata": {
    "colab": {
     "base_uri": "https://localhost:8080/",
     "height": 34
    },
    "colab_type": "code",
    "id": "3LpNMs6jkQPQ",
    "outputId": "14c6f9b6-6eb7-40df-dddc-025d920d6093"
   },
   "outputs": [],
   "source": [
    "!wc -l data.txt"
   ]
  },
  {
   "cell_type": "code",
   "execution_count": null,
   "metadata": {
    "colab": {
     "base_uri": "https://localhost:8080/",
     "height": 187
    },
    "colab_type": "code",
    "id": "xTKDAkUEKJjv",
    "outputId": "4813eeb3-e443-4a5b-c269-76266ee2f437"
   },
   "outputs": [],
   "source": [
    "!head data.txt"
   ]
  },
  {
   "cell_type": "code",
   "execution_count": null,
   "metadata": {
    "colab": {
     "base_uri": "https://localhost:8080/",
     "height": 34
    },
    "colab_type": "code",
    "id": "jcVb2VYLJ3T3",
    "outputId": "2ab45c33-a50e-4994-af22-68e19ad73a95"
   },
   "outputs": [],
   "source": [
    "!gunzip -c {data_file} | wc -l"
   ]
  },
  {
   "cell_type": "code",
   "execution_count": null,
   "metadata": {
    "colab": {},
    "colab_type": "code",
    "id": "-cAtW7apdW5F"
   },
   "outputs": [],
   "source": [
    "import pandas as pd\n",
    "\n",
    "tnseq = pd.read_table('data.txt', header=None, names=['pos','blunt','cap','dual','erm','pen','tuf','gene'])"
   ]
  },
  {
   "cell_type": "code",
   "execution_count": null,
   "metadata": {
    "colab": {},
    "colab_type": "code",
    "id": "C5rUX9nQ1FZH"
   },
   "outputs": [],
   "source": [
    "# Let's create a small subset of this dataset\n",
    "df = tnseq[tnseq['blunt'] > 200]"
   ]
  },
  {
   "cell_type": "code",
   "execution_count": null,
   "metadata": {
    "colab": {
     "base_uri": "https://localhost:8080/",
     "height": 204
    },
    "colab_type": "code",
    "id": "QfCjFYO0k2fg",
    "outputId": "5671f9b8-b829-43f0-a301-483862ea4055"
   },
   "outputs": [],
   "source": [
    "df.head()"
   ]
  },
  {
   "cell_type": "code",
   "execution_count": null,
   "metadata": {
    "colab": {
     "base_uri": "https://localhost:8080/",
     "height": 119
    },
    "colab_type": "code",
    "id": "Lzwu5NSHk3y1",
    "outputId": "aa4c536b-1998-423d-d7ed-9d98d06ee807"
   },
   "outputs": [],
   "source": [
    "df.index"
   ]
  },
  {
   "cell_type": "code",
   "execution_count": null,
   "metadata": {
    "colab": {
     "base_uri": "https://localhost:8080/",
     "height": 297
    },
    "colab_type": "code",
    "id": "4lJMo8uZlL7T",
    "outputId": "170ef142-4f99-4137-a94f-ef7f58d5f9cc"
   },
   "outputs": [],
   "source": [
    "df.describe()"
   ]
  },
  {
   "cell_type": "code",
   "execution_count": null,
   "metadata": {
    "colab": {},
    "colab_type": "code",
    "id": "CBHG6gbskLKW"
   },
   "outputs": [],
   "source": [
    "df = df.sort_values(by=['pos'])"
   ]
  },
  {
   "cell_type": "code",
   "execution_count": null,
   "metadata": {
    "colab": {},
    "colab_type": "code",
    "id": "R9jDq_tkMlUq"
   },
   "outputs": [],
   "source": [
    "df = df.set_index('pos')"
   ]
  },
  {
   "cell_type": "code",
   "execution_count": null,
   "metadata": {
    "colab": {
     "base_uri": "https://localhost:8080/",
     "height": 235
    },
    "colab_type": "code",
    "id": "swJeqR2RMptk",
    "outputId": "bd1f4aea-71f6-4765-a91b-42fda1055926"
   },
   "outputs": [],
   "source": [
    "df.head()"
   ]
  },
  {
   "cell_type": "markdown",
   "metadata": {
    "colab_type": "text",
    "id": "V9EUNwWBzUNq"
   },
   "source": [
    "## Selection\n",
    "-------\n",
    "**Note**: While standard Python / Numpy expressions for selecting and setting are intuitive and come in handy for interactive work, for production code, we recommend the optimized pandas data access methods, `.at`, `.iat`, `.loc` and `.iloc`.\n",
    "\n",
    "See the indexing documentation:\n",
    " - [Indexing and Selecting Data](https://pandas.pydata.org/pandas-docs/stable/indexing.html#indexing)\n",
    " - [MultiIndex / Advanced Indexing](https://pandas.pydata.org/pandas-docs/stable/advanced.html#advanced)"
   ]
  },
  {
   "cell_type": "markdown",
   "metadata": {
    "colab_type": "text",
    "id": "p4fHmHALyQIw"
   },
   "source": [
    "### Getting"
   ]
  },
  {
   "cell_type": "markdown",
   "metadata": {
    "colab_type": "text",
    "id": "MGpKX9m1LEb_"
   },
   "source": [
    "Selecting via `[]`, which slices the rows."
   ]
  },
  {
   "cell_type": "code",
   "execution_count": null,
   "metadata": {
    "colab": {
     "base_uri": "https://localhost:8080/",
     "height": 173
    },
    "colab_type": "code",
    "id": "eSIrYg4rxlUP",
    "outputId": "00c9f02a-7839-43e8-fce8-b5780a9357c9"
   },
   "outputs": [],
   "source": [
    "df[0:3]"
   ]
  },
  {
   "cell_type": "markdown",
   "metadata": {
    "colab_type": "text",
    "id": "7ZeHXunq0X8d"
   },
   "source": [
    "Selecting a single column, a `series` can be done in two ways:"
   ]
  },
  {
   "cell_type": "code",
   "execution_count": null,
   "metadata": {
    "colab": {
     "base_uri": "https://localhost:8080/",
     "height": 136
    },
    "colab_type": "code",
    "id": "BXoRnjb_x7k8",
    "outputId": "c1dd3d71-974a-41c8-d323-571e27131290"
   },
   "outputs": [],
   "source": [
    "df.gene.head()"
   ]
  },
  {
   "cell_type": "markdown",
   "metadata": {
    "colab_type": "text",
    "id": "4Dz7ryoOK2iX"
   },
   "source": [
    "or"
   ]
  },
  {
   "cell_type": "code",
   "execution_count": null,
   "metadata": {
    "colab": {
     "base_uri": "https://localhost:8080/",
     "height": 136
    },
    "colab_type": "code",
    "id": "sq6fQjou5Saq",
    "outputId": "f7622916-20e4-4be5-d1e4-ffbcd56cf93c"
   },
   "outputs": [],
   "source": [
    "df['gene'].head()"
   ]
  },
  {
   "cell_type": "markdown",
   "metadata": {
    "colab_type": "text",
    "id": "WTGxNH5mLTTE"
   },
   "source": [
    "### Selection by label\n",
    "See more in [Selection by Label](https://pandas.pydata.org/pandas-docs/stable/user_guide/indexing.html#indexing-label).\n",
    "\n",
    "For getting a cross section using a label:"
   ]
  },
  {
   "cell_type": "code",
   "execution_count": null,
   "metadata": {
    "colab": {
     "base_uri": "https://localhost:8080/",
     "height": 153
    },
    "colab_type": "code",
    "id": "oRIDA0uPLPfY",
    "outputId": "13c8d3c0-3afd-40c1-fe80-f20be2d20fc6"
   },
   "outputs": [],
   "source": [
    "df.loc[2404930]"
   ]
  },
  {
   "cell_type": "code",
   "execution_count": null,
   "metadata": {
    "colab": {
     "base_uri": "https://localhost:8080/",
     "height": 68
    },
    "colab_type": "code",
    "id": "7-IvwuPVNOZz",
    "outputId": "3e192e89-21e1-48a2-cadd-62136e9d6b02"
   },
   "outputs": [],
   "source": [
    "df.loc[2404930,['erm','pen']]"
   ]
  },
  {
   "cell_type": "code",
   "execution_count": null,
   "metadata": {
    "colab": {
     "base_uri": "https://localhost:8080/",
     "height": 173
    },
    "colab_type": "code",
    "id": "kwtaABLSNObA",
    "outputId": "df7b5d9e-91e0-4256-99a5-2159d578db12"
   },
   "outputs": [],
   "source": [
    "df.loc[2404930:2404937,['erm','pen']]"
   ]
  },
  {
   "cell_type": "markdown",
   "metadata": {
    "colab_type": "text",
    "id": "IGkuL2NKP879"
   },
   "source": [
    "### Selection by position\n",
    "See more in [Selection by Position](https://pandas.pydata.org/pandas-docs/stable/indexing.html#indexing-integer)\n",
    "\n",
    "Select via the position of the passed integers:"
   ]
  },
  {
   "cell_type": "code",
   "execution_count": null,
   "metadata": {
    "colab": {
     "base_uri": "https://localhost:8080/",
     "height": 153
    },
    "colab_type": "code",
    "id": "5KJyMRGBOHUM",
    "outputId": "f867a6cf-ac2e-4854-d142-f6f3a9831b12"
   },
   "outputs": [],
   "source": [
    "df.iloc[3]"
   ]
  },
  {
   "cell_type": "markdown",
   "metadata": {
    "colab_type": "text",
    "id": "zTSrsdDIQlLh"
   },
   "source": [
    "By integer slices, acting similar to numpy/python:"
   ]
  },
  {
   "cell_type": "code",
   "execution_count": null,
   "metadata": {
    "colab": {
     "base_uri": "https://localhost:8080/",
     "height": 142
    },
    "colab_type": "code",
    "id": "TfkAbktbQQcV",
    "outputId": "cfce5882-6dcb-4adf-9de6-0007be9bec2a"
   },
   "outputs": [],
   "source": [
    "df.iloc[3:5,0:2]"
   ]
  },
  {
   "cell_type": "markdown",
   "metadata": {
    "colab_type": "text",
    "id": "BrD41NH3Qx_3"
   },
   "source": [
    "By lists of integer position locations, similar to the numpy/python style:"
   ]
  },
  {
   "cell_type": "code",
   "execution_count": null,
   "metadata": {
    "colab": {
     "base_uri": "https://localhost:8080/",
     "height": 173
    },
    "colab_type": "code",
    "id": "0rdqpDr-Qn0E",
    "outputId": "8d95fb06-6cbc-4149-c098-29d013d12f70"
   },
   "outputs": [],
   "source": [
    "df.iloc[[1,2,4],[0,2]]"
   ]
  },
  {
   "cell_type": "markdown",
   "metadata": {
    "colab_type": "text",
    "id": "Kcv71oNTQ3JI"
   },
   "source": [
    "For slicing rows explicitly:"
   ]
  },
  {
   "cell_type": "code",
   "execution_count": null,
   "metadata": {
    "colab": {
     "base_uri": "https://localhost:8080/",
     "height": 204
    },
    "colab_type": "code",
    "id": "idyGxLBXQ0vz",
    "outputId": "7cd53854-783b-4daa-e1b9-608917192003"
   },
   "outputs": [],
   "source": [
    "df.iloc[100:,1:5]"
   ]
  },
  {
   "cell_type": "markdown",
   "metadata": {
    "colab_type": "text",
    "id": "oTtJ0_NnRBuQ"
   },
   "source": [
    "For getting a value explicitly:"
   ]
  },
  {
   "cell_type": "code",
   "execution_count": null,
   "metadata": {
    "colab": {
     "base_uri": "https://localhost:8080/",
     "height": 34
    },
    "colab_type": "code",
    "id": "_2WKIuDYQ5aT",
    "outputId": "d3905f73-0d18-4f4e-a458-b9cd33cef9b5"
   },
   "outputs": [],
   "source": [
    "df.iloc[1,1]"
   ]
  },
  {
   "cell_type": "markdown",
   "metadata": {
    "colab_type": "text",
    "id": "QKkQ3epiRHdH"
   },
   "source": [
    "For getting fast access to a scalar (equivalent to the prior method):"
   ]
  },
  {
   "cell_type": "code",
   "execution_count": null,
   "metadata": {
    "colab": {
     "base_uri": "https://localhost:8080/",
     "height": 34
    },
    "colab_type": "code",
    "id": "mTNmcU26REE3",
    "outputId": "5d701dce-639d-4469-ecb2-543637fb8656"
   },
   "outputs": [],
   "source": [
    "df.iat[1,1]"
   ]
  },
  {
   "cell_type": "markdown",
   "metadata": {
    "colab_type": "text",
    "id": "lgIpg6eLRSXq"
   },
   "source": [
    "### Selecting based on condition (boolean indexing)\n",
    "\n",
    "Using a single column’s values to select data:"
   ]
  },
  {
   "cell_type": "code",
   "execution_count": null,
   "metadata": {
    "colab": {
     "base_uri": "https://localhost:8080/",
     "height": 235
    },
    "colab_type": "code",
    "id": "Xo8fwa76RJnn",
    "outputId": "f86f24b9-ac5d-4b65-bb09-e9ee571d2fb0"
   },
   "outputs": [],
   "source": [
    "df[df.gene != 'intergenic'].head()"
   ]
  },
  {
   "cell_type": "markdown",
   "metadata": {
    "colab_type": "text",
    "id": "5gxOjjW2RnFQ"
   },
   "source": [
    "Selecting values from a DataFrame where a boolean condition is met:"
   ]
  },
  {
   "cell_type": "code",
   "execution_count": null,
   "metadata": {
    "colab": {
     "base_uri": "https://localhost:8080/",
     "height": 235
    },
    "colab_type": "code",
    "id": "0PO2_Im-RgPV",
    "outputId": "92ce9503-b03c-45c2-db41-17c3680df577"
   },
   "outputs": [],
   "source": [
    "df[df > 0].head()"
   ]
  },
  {
   "cell_type": "markdown",
   "metadata": {
    "colab_type": "text",
    "id": "TCog8AsyR4qd"
   },
   "source": [
    "Using the [`isin()`](https://pandas.pydata.org/pandas-docs/stable/generated/pandas.Series.isin.html#pandas.Series.isin) method for filtering:"
   ]
  },
  {
   "cell_type": "code",
   "execution_count": null,
   "metadata": {
    "colab": {
     "base_uri": "https://localhost:8080/",
     "height": 153
    },
    "colab_type": "code",
    "id": "CXi0UP3_SpBc",
    "outputId": "525f2031-f0fe-4367-9831-f831176721ce"
   },
   "outputs": [],
   "source": [
    "df.gene.unique()"
   ]
  },
  {
   "cell_type": "code",
   "execution_count": null,
   "metadata": {
    "colab": {
     "base_uri": "https://localhost:8080/",
     "height": 235
    },
    "colab_type": "code",
    "id": "KjsXlzIbR-Py",
    "outputId": "6067b269-6b77-42de-d2e2-f27a57f246a9"
   },
   "outputs": [],
   "source": [
    "df[df['gene'].isin(['gene2465','gene206'])]"
   ]
  },
  {
   "cell_type": "markdown",
   "metadata": {
    "colab_type": "text",
    "id": "Jt-Zr3tBZoki"
   },
   "source": [
    "### Setting\n",
    "\n",
    "Setting a new column automatically aligns the data by the indexes:"
   ]
  },
  {
   "cell_type": "code",
   "execution_count": null,
   "metadata": {
    "colab": {},
    "colab_type": "code",
    "id": "13MhHp6uZJZL"
   },
   "outputs": [],
   "source": [
    "gc = pd.read_table('ta_gc.txt', header=None, names=['pos','gc'])"
   ]
  },
  {
   "cell_type": "code",
   "execution_count": null,
   "metadata": {
    "colab": {},
    "colab_type": "code",
    "id": "WPVVNSk5gOYr"
   },
   "outputs": [],
   "source": [
    "gc = gc.set_index('pos')"
   ]
  },
  {
   "cell_type": "code",
   "execution_count": null,
   "metadata": {
    "colab": {
     "base_uri": "https://localhost:8080/",
     "height": 235
    },
    "colab_type": "code",
    "id": "NP3q3zlniVOd",
    "outputId": "ba844dba-3789-4dc1-ff3b-c7197680922d"
   },
   "outputs": [],
   "source": [
    "gc.head()"
   ]
  },
  {
   "cell_type": "code",
   "execution_count": null,
   "metadata": {
    "colab": {},
    "colab_type": "code",
    "id": "TpHPDid7gUTJ"
   },
   "outputs": [],
   "source": [
    "df['gc'] = gc"
   ]
  },
  {
   "cell_type": "code",
   "execution_count": null,
   "metadata": {
    "colab": {
     "base_uri": "https://localhost:8080/",
     "height": 235
    },
    "colab_type": "code",
    "id": "8yK8CNHLgdUQ",
    "outputId": "eed0328f-8cd8-4a4b-bf73-98cdc04f5fcd"
   },
   "outputs": [],
   "source": [
    "df.head()"
   ]
  },
  {
   "cell_type": "markdown",
   "metadata": {
    "colab_type": "text",
    "id": "BvaF_kp_i-1B"
   },
   "source": [
    "Setting values by label:"
   ]
  },
  {
   "cell_type": "code",
   "execution_count": null,
   "metadata": {
    "colab": {},
    "colab_type": "code",
    "id": "0NfWc00xge7R"
   },
   "outputs": [],
   "source": [
    "df.at[2,'erm'] = 0"
   ]
  },
  {
   "cell_type": "code",
   "execution_count": null,
   "metadata": {
    "colab": {
     "base_uri": "https://localhost:8080/",
     "height": 170
    },
    "colab_type": "code",
    "id": "LT_wwXpMiyjC",
    "outputId": "bbe6ce0e-5080-4b51-9d8c-e54ba2821e92"
   },
   "outputs": [],
   "source": [
    "df.loc[2]"
   ]
  },
  {
   "cell_type": "code",
   "execution_count": null,
   "metadata": {
    "colab": {},
    "colab_type": "code",
    "id": "fv7KFUy4jL3w"
   },
   "outputs": [],
   "source": [
    "df = df.sort_index()"
   ]
  },
  {
   "cell_type": "code",
   "execution_count": null,
   "metadata": {
    "colab": {
     "base_uri": "https://localhost:8080/",
     "height": 235
    },
    "colab_type": "code",
    "id": "_VQWONs2k0Ms",
    "outputId": "9b801eb8-5419-457d-800b-fd192082a02a"
   },
   "outputs": [],
   "source": [
    "df.head()"
   ]
  },
  {
   "cell_type": "markdown",
   "metadata": {
    "colab_type": "text",
    "id": "p_XQn_G2l_9A"
   },
   "source": [
    "## Missing data\n",
    "-------\n",
    "pandas primarily uses the value `np.nan` to represent missing data. It is by default not included in computations. See the [Missing Data section](https://pandas.pydata.org/pandas-docs/stable/missing_data.html#missing-data)."
   ]
  },
  {
   "cell_type": "markdown",
   "metadata": {
    "colab_type": "text",
    "id": "E4OyyjkmmKr5"
   },
   "source": [
    "To drop any rows that have missing data:"
   ]
  },
  {
   "cell_type": "code",
   "execution_count": null,
   "metadata": {
    "colab": {
     "base_uri": "https://localhost:8080/",
     "height": 235
    },
    "colab_type": "code",
    "id": "wMhfsPo4lcSc",
    "outputId": "f3c1f7da-8629-4114-803f-b53adce35241"
   },
   "outputs": [],
   "source": [
    "df.dropna(how='any').head()"
   ]
  },
  {
   "cell_type": "markdown",
   "metadata": {
    "colab_type": "text",
    "id": "xoIMvYzxmvLl"
   },
   "source": [
    "Filling missing data"
   ]
  },
  {
   "cell_type": "code",
   "execution_count": null,
   "metadata": {
    "colab": {
     "base_uri": "https://localhost:8080/",
     "height": 235
    },
    "colab_type": "code",
    "id": "rwaQeOTTmnKQ",
    "outputId": "c3b3caf2-275c-4e53-fb18-b0ab051cdc13"
   },
   "outputs": [],
   "source": [
    "df.fillna(value='0').head()"
   ]
  },
  {
   "cell_type": "code",
   "execution_count": null,
   "metadata": {
    "colab": {
     "base_uri": "https://localhost:8080/",
     "height": 235
    },
    "colab_type": "code",
    "id": "jSLFlY73m17z",
    "outputId": "2905c775-a3f3-47b9-c3ef-cd4e6d7f9a48"
   },
   "outputs": [],
   "source": [
    "df.isna().head()"
   ]
  },
  {
   "cell_type": "markdown",
   "metadata": {
    "colab_type": "text",
    "id": "CIS10PH3qOfc"
   },
   "source": [
    "## Operations\n",
    "-------\n",
    "See the [Basic section on Binary Ops](https://pandas.pydata.org/pandas-docs/stable/basics.html#basics-binop)."
   ]
  },
  {
   "cell_type": "markdown",
   "metadata": {
    "colab_type": "text",
    "id": "ZzhtKHo6qZqu"
   },
   "source": [
    "### Stats\n",
    "\n",
    "Operations in general exclude missing data.\n",
    "\n",
    "Performing a descriptive statistic:"
   ]
  },
  {
   "cell_type": "code",
   "execution_count": null,
   "metadata": {
    "colab": {
     "base_uri": "https://localhost:8080/",
     "height": 153
    },
    "colab_type": "code",
    "id": "P2LdMGE6nJU1",
    "outputId": "3f11370e-046c-48cb-ec8f-879267f9995d"
   },
   "outputs": [],
   "source": [
    "df.mean()"
   ]
  },
  {
   "cell_type": "markdown",
   "metadata": {
    "colab_type": "text",
    "id": "kkK6rQX8qi_H"
   },
   "source": [
    "Same operation on the other axis:"
   ]
  },
  {
   "cell_type": "code",
   "execution_count": null,
   "metadata": {
    "colab": {
     "base_uri": "https://localhost:8080/",
     "height": 136
    },
    "colab_type": "code",
    "id": "bQW0pLcbqf-8",
    "outputId": "d06583d2-0502-45cc-d866-654a78a81370"
   },
   "outputs": [],
   "source": [
    "df.mean(1).head()"
   ]
  },
  {
   "cell_type": "markdown",
   "metadata": {
    "colab_type": "text",
    "id": "lJcWZJ9PrxWS"
   },
   "source": [
    "### Apply\n",
    "Apply functions to the data:"
   ]
  },
  {
   "cell_type": "code",
   "execution_count": null,
   "metadata": {
    "colab": {
     "base_uri": "https://localhost:8080/",
     "height": 235
    },
    "colab_type": "code",
    "id": "rb5wd-btrR2r",
    "outputId": "860d7ae9-5810-4a2b-dbc6-4b491b4505c1"
   },
   "outputs": [],
   "source": [
    "df.head()"
   ]
  },
  {
   "cell_type": "code",
   "execution_count": null,
   "metadata": {
    "colab": {
     "base_uri": "https://localhost:8080/",
     "height": 235
    },
    "colab_type": "code",
    "id": "JzR6KuCUqloh",
    "outputId": "90e86423-42d1-46ca-c4ae-717fdd60a0cc"
   },
   "outputs": [],
   "source": [
    "import numpy as np\n",
    "df.loc[:,'blunt':'tuf'].apply(np.cumsum).head()"
   ]
  },
  {
   "cell_type": "markdown",
   "metadata": {
    "colab_type": "text",
    "id": "yAztQ2isr3pQ"
   },
   "source": [
    "### Hostogramming\n",
    "See more at [Histogramming and Discretization](https://pandas.pydata.org/pandas-docs/stable/basics.html#basics-discretization):"
   ]
  },
  {
   "cell_type": "code",
   "execution_count": null,
   "metadata": {
    "colab": {
     "base_uri": "https://localhost:8080/",
     "height": 697
    },
    "colab_type": "code",
    "id": "99sKhF0erEGI",
    "outputId": "8585211f-cc83-4960-e5bf-23f0d712c49a"
   },
   "outputs": [],
   "source": [
    "df['gene'].value_counts()"
   ]
  },
  {
   "cell_type": "code",
   "execution_count": null,
   "metadata": {
    "colab": {
     "base_uri": "https://localhost:8080/",
     "height": 481
    },
    "colab_type": "code",
    "id": "GwftlZ0ssKAT",
    "outputId": "7ee15dbe-e281-46f0-8be7-f2506552270a"
   },
   "outputs": [],
   "source": [
    "df.loc[:,'blunt':'tuf'].hist(bins=100, sharex=True, sharey=True)"
   ]
  },
  {
   "cell_type": "markdown",
   "metadata": {
    "colab_type": "text",
    "id": "KPDn3vY5tsWQ"
   },
   "source": [
    "### String Methods\n",
    "Series is equipped with a set of string processing methods in the str attribute that make it easy to operate on each element of the array, as in the code snippet below. Note that pattern-matching in str generally uses [regular expressions](https://docs.python.org/3/library/re.html) by default (and in some cases always uses them). See more at [Vectorized String Methods](https://pandas.pydata.org/pandas-docs/stable/text.html#text-string-methods):"
   ]
  },
  {
   "cell_type": "code",
   "execution_count": null,
   "metadata": {
    "colab": {
     "base_uri": "https://localhost:8080/",
     "height": 136
    },
    "colab_type": "code",
    "id": "9STktS3psgMG",
    "outputId": "19fdeb53-d062-4e83-f094-db5b81d7ca52"
   },
   "outputs": [],
   "source": [
    "df['gene'].str.upper().head()"
   ]
  },
  {
   "cell_type": "markdown",
   "metadata": {
    "colab_type": "text",
    "id": "VS6KJ-IXwnnp"
   },
   "source": [
    "In the next lecture we will learn how to process data in a number of interesting ways"
   ]
  },
  {
   "cell_type": "code",
   "execution_count": null,
   "metadata": {
    "colab": {},
    "colab_type": "code",
    "id": "gt48MB0BwwIg"
   },
   "outputs": [],
   "source": []
  }
 ],
 "metadata": {
  "colab": {
   "collapsed_sections": [],
   "name": "tnseq_with_pandas.ipynb",
   "provenance": [],
   "version": "0.3.2"
  },
  "kernelspec": {
   "display_name": "Python 3",
   "language": "python",
   "name": "python3"
  },
  "language_info": {
   "codemirror_mode": {
    "name": "ipython",
    "version": 3
   },
   "file_extension": ".py",
   "mimetype": "text/x-python",
   "name": "python",
   "nbconvert_exporter": "python",
   "pygments_lexer": "ipython3",
   "version": "3.6.5"
  }
 },
 "nbformat": 4,
 "nbformat_minor": 1
}

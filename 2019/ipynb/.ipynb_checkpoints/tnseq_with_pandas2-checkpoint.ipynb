{
 "cells": [
  {
   "cell_type": "markdown",
   "metadata": {
    "colab_type": "text",
    "id": "2Ar39r12MqDq"
   },
   "source": [
    "# Introduction to Pandas : Part 2\n",
    "------\n",
    "This tutorial is heavily based on [Pandas in 10 min](https://pandas.pydata.org/pandas-docs/stable/getting_started/10min.html#). The original material waas modified by adding TnSeq data as examples."
   ]
  },
  {
   "cell_type": "code",
   "execution_count": null,
   "metadata": {
    "colab": {},
    "colab_type": "code",
    "id": "ZqE4CMyfNJR7"
   },
   "outputs": [],
   "source": [
    "import pandas as pd\n",
    "import numpy as np\n",
    "%matplotlib inline  "
   ]
  },
  {
   "cell_type": "markdown",
   "metadata": {
    "colab_type": "text",
    "id": "6yR-DQR7M3R1"
   },
   "source": [
    "## Get datasets to play with"
   ]
  },
  {
   "cell_type": "code",
   "execution_count": null,
   "metadata": {
    "colab": {
     "base_uri": "https://localhost:8080/",
     "height": 2720
    },
    "colab_type": "code",
    "id": "K1N3fRRTMpKl",
    "outputId": "33727760-84a3-491e-ea84-528555b362c5",
    "scrolled": true
   },
   "outputs": [],
   "source": [
    "%%bash\n",
    "wget https://nekrut.github.io/BMMB554/tnseq_untreated.txt.gz\n",
    "wget https://nekrut.github.io/BMMB554/ta_gc.txt"
   ]
  },
  {
   "cell_type": "code",
   "execution_count": null,
   "metadata": {
    "colab": {},
    "colab_type": "code",
    "id": "cLkwgVimM70v"
   },
   "outputs": [],
   "source": [
    "data_file = 'tnseq_untreated.txt.gz'"
   ]
  },
  {
   "cell_type": "code",
   "execution_count": null,
   "metadata": {
    "colab": {
     "base_uri": "https://localhost:8080/",
     "height": 51
    },
    "colab_type": "code",
    "id": "gdkjXXaYNAgG",
    "outputId": "6dea654c-282c-4d08-cf22-a15dda343593"
   },
   "outputs": [],
   "source": [
    "# Just two choices for beginning of of gene field\n",
    "!gunzip -c {data_file} | cut -f 8 | cut -f 1 -d '=' | sort | uniq -c"
   ]
  },
  {
   "cell_type": "code",
   "execution_count": null,
   "metadata": {
    "colab": {},
    "colab_type": "code",
    "id": "Ig3TgqPJNDlg"
   },
   "outputs": [],
   "source": [
    "# Process tnseq_untreated.txt.gz to correctly parse gene names\n",
    "\n",
    "import os\n",
    "f = open('data.txt','w')\n",
    "\n",
    "with os.popen('gunzip -c {}'.format(data_file)) as stream:\n",
    "  for line in stream:\n",
    "    if line.split( '\\t' )[7].startswith( '.' ):\n",
    "      f.write( '{}\\t{}\\n'.format( '\\t'.join( line.split( '\\t' )[:7] ) , 'intergenic'  ) )\n",
    "    elif line.split( '\\t' )[7].startswith( 'ID' ):\n",
    "      f.write( '{}\\t{}\\n'.format( '\\t'.join( line.split( '\\t' )[:7] ) , line.split( '\\t' )[7].split(';')[0][3:] ) )\n",
    "f.close()"
   ]
  },
  {
   "cell_type": "code",
   "execution_count": null,
   "metadata": {
    "colab": {},
    "colab_type": "code",
    "id": "oGeirKSlNFsg"
   },
   "outputs": [],
   "source": [
    "# Read from the file\n",
    "\n",
    "tnseq = pd.read_table('data.txt', header=None, names=['pos','blunt','cap','dual','erm','pen','tuf','gene'])"
   ]
  },
  {
   "cell_type": "code",
   "execution_count": null,
   "metadata": {
    "colab": {
     "base_uri": "https://localhost:8080/",
     "height": 204
    },
    "colab_type": "code",
    "id": "pT7B2dafnKJc",
    "outputId": "53f5a06c-c04f-40d0-f4a4-b8e485d9e446"
   },
   "outputs": [],
   "source": [
    "tnseq.head()"
   ]
  },
  {
   "cell_type": "code",
   "execution_count": null,
   "metadata": {
    "colab": {},
    "colab_type": "code",
    "id": "WU1GK3GvR3M_"
   },
   "outputs": [],
   "source": [
    "# Set position as index\n",
    "\n",
    "tnseq = tnseq.set_index('pos')"
   ]
  },
  {
   "cell_type": "code",
   "execution_count": null,
   "metadata": {
    "colab": {
     "base_uri": "https://localhost:8080/",
     "height": 235
    },
    "colab_type": "code",
    "id": "8QxNY3FgnWJm",
    "outputId": "d64e2121-a00c-4b67-9c2c-5fbd0697ad4a"
   },
   "outputs": [],
   "source": [
    "tnseq.head()"
   ]
  },
  {
   "cell_type": "code",
   "execution_count": null,
   "metadata": {
    "colab": {},
    "colab_type": "code",
    "id": "KRj59lZDNezV"
   },
   "outputs": [],
   "source": [
    "# Reading GC content data\n",
    "\n",
    "gc = pd.read_table('ta_gc.txt', header=None, names=['pos','gc'])"
   ]
  },
  {
   "cell_type": "code",
   "execution_count": null,
   "metadata": {
    "colab": {
     "base_uri": "https://localhost:8080/",
     "height": 204
    },
    "colab_type": "code",
    "id": "Va7bbxs6nhU4",
    "outputId": "4ad4cf12-feee-4992-feec-9d6a5003f8df"
   },
   "outputs": [],
   "source": [
    "gc.head()"
   ]
  },
  {
   "cell_type": "code",
   "execution_count": null,
   "metadata": {
    "colab": {},
    "colab_type": "code",
    "id": "K_7TNwSfR8_5"
   },
   "outputs": [],
   "source": [
    "# Set position as index as well\n",
    "\n",
    "gc = gc.set_index('pos')"
   ]
  },
  {
   "cell_type": "code",
   "execution_count": null,
   "metadata": {
    "colab": {
     "base_uri": "https://localhost:8080/",
     "height": 235
    },
    "colab_type": "code",
    "id": "fO8sbmBYnjZm",
    "outputId": "bd493de5-4623-4ba2-ed7e-490831f1fc32"
   },
   "outputs": [],
   "source": [
    "gc.head()"
   ]
  },
  {
   "cell_type": "markdown",
   "metadata": {
    "colab_type": "text",
    "id": "9JKCcp8vYoHh"
   },
   "source": [
    "## Joins of all sorts\n",
    "\n",
    "![](http://kirillpavlov.com/images/join-types.png)\n",
    "\n",
    "Image from Kirill Pavlov [blog](http://kirillpavlov.com/blog/2016/04/23/beyond-traditional-join-with-apache-spark/)"
   ]
  },
  {
   "cell_type": "markdown",
   "metadata": {
    "colab_type": "text",
    "id": "AIq8cS0ZsX2V"
   },
   "source": [
    "### Prepare sample data\n",
    "\n",
    "To make things more digestable we will create twio dataframes, `df1` and `df2`, that are small subsets of `tnseq` and `gc` tables. In making them we will make sure that thay mostly overlap but also contain a few rows with indexes not present in the other dataframe."
   ]
  },
  {
   "cell_type": "code",
   "execution_count": null,
   "metadata": {
    "colab": {},
    "colab_type": "code",
    "id": "bRtFLfANZCGP"
   },
   "outputs": [],
   "source": [
    "# Let's create a small subset of tnseq data:\n",
    "\n",
    "df1 = tnseq[( tnseq['gene'] != 'intergenic' ) & ( tnseq['blunt']>100 ) ].head(10)"
   ]
  },
  {
   "cell_type": "code",
   "execution_count": null,
   "metadata": {
    "colab": {},
    "colab_type": "code",
    "id": "R8e98ZqLqas9"
   },
   "outputs": [],
   "source": [
    "# Create a numpy array contain index values from fd1\n",
    "\n",
    "i = np.array(df1.index[1:])"
   ]
  },
  {
   "cell_type": "code",
   "execution_count": null,
   "metadata": {
    "colab": {
     "base_uri": "https://localhost:8080/",
     "height": 51
    },
    "colab_type": "code",
    "id": "lN4sKQ6preRZ",
    "outputId": "ccbf0612-21d5-4d8c-c215-4c3085d89696"
   },
   "outputs": [],
   "source": [
    "i"
   ]
  },
  {
   "cell_type": "code",
   "execution_count": null,
   "metadata": {
    "colab": {},
    "colab_type": "code",
    "id": "q1G9CU6lqeBU"
   },
   "outputs": [],
   "source": [
    "# Append a few gc index values to i, that are not present in df1\n",
    "\n",
    "i = np.append(i,[2410079,2405277,2405301])"
   ]
  },
  {
   "cell_type": "code",
   "execution_count": null,
   "metadata": {
    "colab": {
     "base_uri": "https://localhost:8080/",
     "height": 51
    },
    "colab_type": "code",
    "id": "gXVqsDDWrZ6y",
    "outputId": "dce5ccf2-d1c5-443f-850a-13895022c5d7"
   },
   "outputs": [],
   "source": [
    "i"
   ]
  },
  {
   "cell_type": "code",
   "execution_count": null,
   "metadata": {
    "colab": {},
    "colab_type": "code",
    "id": "-opUpADAn0pr"
   },
   "outputs": [],
   "source": [
    "# ... and a subset of gc data\n",
    "\n",
    "df2 = gc.loc[i]"
   ]
  },
  {
   "cell_type": "code",
   "execution_count": null,
   "metadata": {
    "colab": {
     "base_uri": "https://localhost:8080/",
     "height": 390
    },
    "colab_type": "code",
    "id": "1paTDFdCbMLL",
    "outputId": "6e28ce55-2cc4-41bb-df6b-6cb2512ae86c"
   },
   "outputs": [],
   "source": [
    "# This is what we have in df1\n",
    "\n",
    "df1"
   ]
  },
  {
   "cell_type": "code",
   "execution_count": null,
   "metadata": {
    "colab": {
     "base_uri": "https://localhost:8080/",
     "height": 452
    },
    "colab_type": "code",
    "id": "NzJGnlW9oHQz",
    "outputId": "5c8fe02c-8111-4010-8d07-dc84dfbea410"
   },
   "outputs": [],
   "source": [
    "# ... and this is content of df2\n",
    "df2"
   ]
  },
  {
   "cell_type": "markdown",
   "metadata": {
    "colab_type": "text",
    "id": "ZyCl_wKJtIK5"
   },
   "source": [
    "\n",
    "### Inner join\n",
    "\n",
    "![](https://upload.wikimedia.org/wikipedia/commons/thumb/1/18/SQL_Join_-_07_A_Inner_Join_B.svg/220px-SQL_Join_-_07_A_Inner_Join_B.svg.png)\n",
    "\n",
    "Here **A** is `df1` and **B** is `df2`.\n",
    "\n",
    "Image from [Wikipedia](https://en.wikipedia.org/wiki/Join_(SQL)."
   ]
  },
  {
   "cell_type": "code",
   "execution_count": null,
   "metadata": {
    "colab": {
     "base_uri": "https://localhost:8080/",
     "height": 390
    },
    "colab_type": "code",
    "id": "483lvTvubM4L",
    "outputId": "6fe7774d-b100-462c-df9e-7d3e5f0a0024"
   },
   "outputs": [],
   "source": [
    "df1.join(df2, how = 'inner')"
   ]
  },
  {
   "cell_type": "code",
   "execution_count": null,
   "metadata": {
    "colab": {
     "base_uri": "https://localhost:8080/",
     "height": 390
    },
    "colab_type": "code",
    "id": "r-zapjCmyafS",
    "outputId": "6d33fe9f-4e32-4fed-f7f6-f05a4f06f4c2"
   },
   "outputs": [],
   "source": [
    "pd.merge(df1, df2, left_index=True, right_index=True, how = 'inner')"
   ]
  },
  {
   "cell_type": "markdown",
   "metadata": {
    "colab_type": "text",
    "id": "g4xszhgnt_Z8"
   },
   "source": [
    "### Left join\n",
    "\n",
    "![](https://upload.wikimedia.org/wikipedia/commons/thumb/f/f6/SQL_Join_-_01_A_Left_Join_B.svg/220px-SQL_Join_-_01_A_Left_Join_B.svg.png)\n",
    "\n",
    "Here **A** is `df1` and **B** is `df2`.\n",
    "\n",
    "Image from [Wikipedia](https://en.wikipedia.org/wiki/Join_(SQL)."
   ]
  },
  {
   "cell_type": "code",
   "execution_count": null,
   "metadata": {
    "colab": {
     "base_uri": "https://localhost:8080/",
     "height": 421
    },
    "colab_type": "code",
    "id": "HqCBlr54eyGR",
    "outputId": "53d08b24-32ca-4e1d-f80f-bb735c6b111f"
   },
   "outputs": [],
   "source": [
    "df1.join(df2, how = 'left')"
   ]
  },
  {
   "cell_type": "code",
   "execution_count": null,
   "metadata": {
    "colab": {
     "base_uri": "https://localhost:8080/",
     "height": 421
    },
    "colab_type": "code",
    "id": "BNm7ABQKzZ18",
    "outputId": "54e6826f-b308-488d-b34e-bfa87cbe5f12"
   },
   "outputs": [],
   "source": [
    "pd.merge(df1, df2, left_index=True, right_index=True, how = 'left')"
   ]
  },
  {
   "cell_type": "markdown",
   "metadata": {
    "colab_type": "text",
    "id": "Kv7ikkxGuRg2"
   },
   "source": [
    "### Right join\n",
    "\n",
    "![](https://upload.wikimedia.org/wikipedia/commons/thumb/5/5f/SQL_Join_-_03_A_Right_Join_B.svg/220px-SQL_Join_-_03_A_Right_Join_B.svg.png)\n",
    "\n",
    "Here **A** is `df1` and **B** is `df2`.\n",
    "\n",
    "Image from [Wikipedia](https://en.wikipedia.org/wiki/Join_(SQL)."
   ]
  },
  {
   "cell_type": "code",
   "execution_count": null,
   "metadata": {
    "colab": {
     "base_uri": "https://localhost:8080/",
     "height": 452
    },
    "colab_type": "code",
    "id": "Jk6JSchguOZc",
    "outputId": "74ecf6bf-9b2a-401a-b5ba-6dcef924e865"
   },
   "outputs": [],
   "source": [
    "df1.join(df2, how = 'right')"
   ]
  },
  {
   "cell_type": "code",
   "execution_count": null,
   "metadata": {
    "colab": {
     "base_uri": "https://localhost:8080/",
     "height": 452
    },
    "colab_type": "code",
    "id": "BuT6nN-YzdeH",
    "outputId": "19c522fe-969a-48c2-b2ef-f8c646f97b94"
   },
   "outputs": [],
   "source": [
    "pd.merge(df1, df2, left_index=True, right_index=True, how = 'right')"
   ]
  },
  {
   "cell_type": "markdown",
   "metadata": {
    "colab_type": "text",
    "id": "DZaHSIpkulB6"
   },
   "source": [
    "### Full join\n",
    "\n",
    "![](https://upload.wikimedia.org/wikipedia/commons/thumb/3/3d/SQL_Join_-_05b_A_Full_Join_B.svg/220px-SQL_Join_-_05b_A_Full_Join_B.svg.png)\n",
    "\n",
    "Here **A** is `df1` and **B** is `df2`.\n",
    "\n",
    "Image from [Wikipedia](https://en.wikipedia.org/wiki/Join_(SQL)."
   ]
  },
  {
   "cell_type": "code",
   "execution_count": null,
   "metadata": {
    "colab": {
     "base_uri": "https://localhost:8080/",
     "height": 483
    },
    "colab_type": "code",
    "id": "QYx2wVneuiyy",
    "outputId": "5890cf2b-5d98-4612-c031-6cf03a654822"
   },
   "outputs": [],
   "source": [
    "df1.join(df2, how = 'outer')"
   ]
  },
  {
   "cell_type": "code",
   "execution_count": null,
   "metadata": {
    "colab": {
     "base_uri": "https://localhost:8080/",
     "height": 483
    },
    "colab_type": "code",
    "id": "GNTXvU1tzhWp",
    "outputId": "f4fff64a-176a-49e4-d49d-3981a550d004"
   },
   "outputs": [],
   "source": [
    "pd.merge(df1, df2, left_index=True, right_index=True, how = 'outer')"
   ]
  },
  {
   "cell_type": "markdown",
   "metadata": {
    "colab_type": "text",
    "id": "m5rQU0clwVFT"
   },
   "source": [
    "## Grouping\n",
    "\n",
    "-------\n",
    "\n",
    "By “group by” we are referring to a process involving one or more of the following steps:\n",
    "\n",
    " - Splitting the data into groups based on some criteria\n",
    " - Applying a function to each group independently\n",
    " - Combining the results into a data structure\n",
    "See the [Grouping section](https://pandas.pydata.org/pandas-docs/stable/user_guide/groupby.html#groupby)."
   ]
  },
  {
   "cell_type": "code",
   "execution_count": null,
   "metadata": {
    "colab": {
     "base_uri": "https://localhost:8080/",
     "height": 235
    },
    "colab_type": "code",
    "id": "mi9Pwlmju6f-",
    "outputId": "46dafdcf-4db6-4cd4-8fcf-1ebfaac48e6d"
   },
   "outputs": [],
   "source": [
    "df1.groupby(['gene']).sum()"
   ]
  },
  {
   "cell_type": "code",
   "execution_count": null,
   "metadata": {
    "colab": {
     "base_uri": "https://localhost:8080/",
     "height": 235
    },
    "colab_type": "code",
    "id": "hIx9fliNz13L",
    "outputId": "58d84d66-3c4a-485a-898f-8183439c1f01"
   },
   "outputs": [],
   "source": [
    "df1.groupby(['gene']).max()"
   ]
  },
  {
   "cell_type": "markdown",
   "metadata": {
    "colab_type": "text",
    "id": "x9SGrdEN7BS9"
   },
   "source": [
    "## Actually using SQL\n",
    "\n",
    "There is a great SQL-like interface for Pandas called [`pandasql`](https://github.com/yhat/pandasql):"
   ]
  },
  {
   "cell_type": "code",
   "execution_count": null,
   "metadata": {
    "colab": {
     "base_uri": "https://localhost:8080/",
     "height": 275
    },
    "colab_type": "code",
    "id": "Ne_HrkBn6RYX",
    "outputId": "665b27cf-4ec9-4885-91d5-8fd5accc004e"
   },
   "outputs": [],
   "source": [
    "!pip install -U pandasql"
   ]
  },
  {
   "cell_type": "code",
   "execution_count": null,
   "metadata": {
    "colab": {},
    "colab_type": "code",
    "id": "mz0UTX6N7k4s"
   },
   "outputs": [],
   "source": [
    "from pandasql import sqldf\n",
    "pysqldf = lambda q: sqldf(q, globals())"
   ]
  },
  {
   "cell_type": "code",
   "execution_count": null,
   "metadata": {
    "colab": {
     "base_uri": "https://localhost:8080/",
     "height": 204
    },
    "colab_type": "code",
    "id": "unbvLmxT73jU",
    "outputId": "b1cfb318-8aaa-4818-965a-ce96fbfbfa41"
   },
   "outputs": [],
   "source": [
    "## Aggregating\n",
    "\n",
    "pysqldf(\"select gene, sum(blunt) as bl from df1 group by gene\")"
   ]
  },
  {
   "cell_type": "code",
   "execution_count": null,
   "metadata": {
    "colab": {
     "base_uri": "https://localhost:8080/",
     "height": 390
    },
    "colab_type": "code",
    "id": "PT2Qi0eA8dfO",
    "outputId": "cb604d6b-cf5e-4597-ce19-efec0ba837d5"
   },
   "outputs": [],
   "source": [
    "## Joining (left join)\n",
    "\n",
    "pysqldf(\"select * from df1 left join df2 on df1.pos = df2.pos\")"
   ]
  },
  {
   "cell_type": "code",
   "execution_count": null,
   "metadata": {
    "colab": {},
    "colab_type": "code",
    "id": "P6jwqn7Q9pfr"
   },
   "outputs": [],
   "source": [
    "## Joining (inner join)\n",
    "\n",
    "pysqldf(\"select * from df1 join df2 on df1.pos = df2.pos\")"
   ]
  },
  {
   "cell_type": "code",
   "execution_count": null,
   "metadata": {},
   "outputs": [],
   "source": []
  }
 ],
 "metadata": {
  "colab": {
   "name": "tnseq_with_pandas2.ipynb",
   "provenance": [],
   "version": "0.3.2"
  },
  "kernelspec": {
   "display_name": "Python 3",
   "language": "python",
   "name": "python3"
  },
  "language_info": {
   "codemirror_mode": {
    "name": "ipython",
    "version": 3
   },
   "file_extension": ".py",
   "mimetype": "text/x-python",
   "name": "python",
   "nbconvert_exporter": "python",
   "pygments_lexer": "ipython3",
   "version": "3.6.5"
  }
 },
 "nbformat": 4,
 "nbformat_minor": 1
}

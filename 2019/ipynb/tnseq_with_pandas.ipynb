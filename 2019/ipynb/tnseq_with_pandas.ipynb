{
  "nbformat": 4,
  "nbformat_minor": 0,
  "metadata": {
    "colab": {
      "name": "tnseq_with_pandas.ipynb",
      "version": "0.3.2",
      "provenance": [],
      "collapsed_sections": []
    },
    "kernelspec": {
      "name": "python3",
      "display_name": "Python 3"
    }
  },
  "cells": [
    {
      "metadata": {
        "id": "1UZTRmZwvrJU",
        "colab_type": "text"
      },
      "cell_type": "markdown",
      "source": [
        "# Introduction to Pandas : Part 1\n",
        "-------\n",
        "This tutorial is heavily based on [Pandas in 10 min](https://pandas.pydata.org/pandas-docs/stable/10min.html). The original material waas modified by adding TnSeq data as examples. \n"
      ]
    },
    {
      "metadata": {
        "id": "k5bP0dhXvxLo",
        "colab_type": "text"
      },
      "cell_type": "markdown",
      "source": [
        "## Get datasets to play with"
      ]
    },
    {
      "metadata": {
        "id": "QzFHDmwfhvHn",
        "colab_type": "code",
        "colab": {}
      },
      "cell_type": "code",
      "source": [
        "%%bash\n",
        "wget https://nekrut.github.io/BMMB554/tnseq_untreated.txt.gz\n",
        "wget https://nekrut.github.io/BMMB554/ta_gc.txt"
      ],
      "execution_count": 0,
      "outputs": []
    },
    {
      "metadata": {
        "id": "8dS6V5FKJGzx",
        "colab_type": "code",
        "colab": {}
      },
      "cell_type": "code",
      "source": [
        "data_file = 'tnseq_untreated.txt.gz'"
      ],
      "execution_count": 0,
      "outputs": []
    },
    {
      "metadata": {
        "id": "d5UioPIlv3-U",
        "colab_type": "text"
      },
      "cell_type": "markdown",
      "source": [
        "The first dataset lists coordinates of `TA` sites and counts of reads for TnSeq constructs 'blunt', 'cap', 'dual', 'erm', 'pen', and 'tuf':"
      ]
    },
    {
      "metadata": {
        "id": "DaB3xMqj9zVm",
        "colab_type": "code",
        "outputId": "ece1381b-c459-4fdd-e0e0-3728ba7ed31c",
        "colab": {
          "base_uri": "https://localhost:8080/",
          "height": 187
        }
      },
      "cell_type": "code",
      "source": [
        "!gunzip -c {data_file} | head"
      ],
      "execution_count": 95,
      "outputs": [
        {
          "output_type": "stream",
          "text": [
            "2400002\t0.0\t0.0\t1.0\t0.0\t0.0\t1.0\t.\n",
            "2400004\t1.0\t0.0\t5.0\t0.0\t0.0\t1.0\t.\n",
            "2400006\t1.0\t0.0\t5.0\t1.0\t0.0\t1.0\t.\n",
            "2400009\t2.0\t2.0\t8.0\t1.0\t0.0\t0.0\t.\n",
            "2400029\t6.0\t1.0\t0.0\t1.0\t0.0\t1.0\t.\n",
            "2400038\t4.0\t2.0\t0.0\t3.0\t3.0\t2.0\t.\n",
            "2400047\t22.0\t4.0\t2.0\t3.0\t4.0\t5.0\t.\n",
            "2400061\t25.0\t3.0\t3.0\t2.0\t2.0\t9.0\t.\n",
            "2400065\t3.0\t0.0\t1.0\t1.0\t1.0\t5.0\t.\n",
            "2400072\t8.0\t5.0\t28.0\t10.0\t7.0\t9.0\t.\n"
          ],
          "name": "stdout"
        }
      ]
    },
    {
      "metadata": {
        "id": "NzN0faRBduix",
        "colab_type": "code",
        "outputId": "26d6fcb0-d59e-4b2c-9cc4-2cb7a7a4ebbb",
        "colab": {
          "base_uri": "https://localhost:8080/",
          "height": 51
        }
      },
      "cell_type": "code",
      "source": [
        "# Just two choices for beginning of of gene field\n",
        "!gunzip -c {data_file} | cut -f 8 | cut -f 1 -d '=' | sort | uniq -c"
      ],
      "execution_count": 96,
      "outputs": [
        {
          "output_type": "stream",
          "text": [
            "  49898 .\n",
            " 220202 ID\n"
          ],
          "name": "stdout"
        }
      ]
    },
    {
      "metadata": {
        "id": "GLeYuYEycYBm",
        "colab_type": "code",
        "colab": {}
      },
      "cell_type": "code",
      "source": [
        "# Process tnseq_untreated.txt.gz to correctly parse gene names\n",
        "\n",
        "import os\n",
        "f = open('data.txt','w')\n",
        "\n",
        "with os.popen('gunzip -c {}'.format(data_file)) as stream:\n",
        "  for line in stream:\n",
        "    if line.split( '\\t' )[7].startswith( '.' ):\n",
        "      f.write( '{}\\t{}\\n'.format( '\\t'.join( line.split( '\\t' )[:7] ) , 'intergenic'  ) )\n",
        "    elif line.split( '\\t' )[7].startswith( 'ID' ):\n",
        "      f.write( '{}\\t{}\\n'.format( '\\t'.join( line.split( '\\t' )[:7] ) , line.split( '\\t' )[7].split(';')[0][3:] ) )\n",
        "f.close()"
      ],
      "execution_count": 0,
      "outputs": []
    },
    {
      "metadata": {
        "id": "3LpNMs6jkQPQ",
        "colab_type": "code",
        "outputId": "14c6f9b6-6eb7-40df-dddc-025d920d6093",
        "colab": {
          "base_uri": "https://localhost:8080/",
          "height": 34
        }
      },
      "cell_type": "code",
      "source": [
        "!wc -l data.txt"
      ],
      "execution_count": 100,
      "outputs": [
        {
          "output_type": "stream",
          "text": [
            "270100 data.txt\n"
          ],
          "name": "stdout"
        }
      ]
    },
    {
      "metadata": {
        "id": "xTKDAkUEKJjv",
        "colab_type": "code",
        "outputId": "4813eeb3-e443-4a5b-c269-76266ee2f437",
        "colab": {
          "base_uri": "https://localhost:8080/",
          "height": 187
        }
      },
      "cell_type": "code",
      "source": [
        "!head data.txt"
      ],
      "execution_count": 101,
      "outputs": [
        {
          "output_type": "stream",
          "text": [
            "2400002\t0.0\t0.0\t1.0\t0.0\t0.0\t1.0\tintergenic\n",
            "2400004\t1.0\t0.0\t5.0\t0.0\t0.0\t1.0\tintergenic\n",
            "2400006\t1.0\t0.0\t5.0\t1.0\t0.0\t1.0\tintergenic\n",
            "2400009\t2.0\t2.0\t8.0\t1.0\t0.0\t0.0\tintergenic\n",
            "2400029\t6.0\t1.0\t0.0\t1.0\t0.0\t1.0\tintergenic\n",
            "2400038\t4.0\t2.0\t0.0\t3.0\t3.0\t2.0\tintergenic\n",
            "2400047\t22.0\t4.0\t2.0\t3.0\t4.0\t5.0\tintergenic\n",
            "2400061\t25.0\t3.0\t3.0\t2.0\t2.0\t9.0\tintergenic\n",
            "2400065\t3.0\t0.0\t1.0\t1.0\t1.0\t5.0\tintergenic\n",
            "2400072\t8.0\t5.0\t28.0\t10.0\t7.0\t9.0\tintergenic\n"
          ],
          "name": "stdout"
        }
      ]
    },
    {
      "metadata": {
        "id": "jcVb2VYLJ3T3",
        "colab_type": "code",
        "outputId": "2ab45c33-a50e-4994-af22-68e19ad73a95",
        "colab": {
          "base_uri": "https://localhost:8080/",
          "height": 34
        }
      },
      "cell_type": "code",
      "source": [
        "!gunzip -c {data_file} | wc -l"
      ],
      "execution_count": 102,
      "outputs": [
        {
          "output_type": "stream",
          "text": [
            "270100\n"
          ],
          "name": "stdout"
        }
      ]
    },
    {
      "metadata": {
        "id": "-cAtW7apdW5F",
        "colab_type": "code",
        "colab": {}
      },
      "cell_type": "code",
      "source": [
        "import pandas as pd\n",
        "\n",
        "tnseq = pd.read_table('data.txt', header=None, names=['pos','blunt','cap','dual','erm','pen','tuf','gene'])"
      ],
      "execution_count": 0,
      "outputs": []
    },
    {
      "metadata": {
        "id": "C5rUX9nQ1FZH",
        "colab_type": "code",
        "colab": {}
      },
      "cell_type": "code",
      "source": [
        "# Let's create a small subset of this dataset\n",
        "df = tnseq[tnseq['blunt'] > 200]"
      ],
      "execution_count": 0,
      "outputs": []
    },
    {
      "metadata": {
        "id": "QfCjFYO0k2fg",
        "colab_type": "code",
        "outputId": "5671f9b8-b829-43f0-a301-483862ea4055",
        "colab": {
          "base_uri": "https://localhost:8080/",
          "height": 204
        }
      },
      "cell_type": "code",
      "source": [
        "df.head()"
      ],
      "execution_count": 156,
      "outputs": [
        {
          "output_type": "execute_result",
          "data": {
            "text/html": [
              "<div>\n",
              "<style scoped>\n",
              "    .dataframe tbody tr th:only-of-type {\n",
              "        vertical-align: middle;\n",
              "    }\n",
              "\n",
              "    .dataframe tbody tr th {\n",
              "        vertical-align: top;\n",
              "    }\n",
              "\n",
              "    .dataframe thead th {\n",
              "        text-align: right;\n",
              "    }\n",
              "</style>\n",
              "<table border=\"1\" class=\"dataframe\">\n",
              "  <thead>\n",
              "    <tr style=\"text-align: right;\">\n",
              "      <th></th>\n",
              "      <th>pos</th>\n",
              "      <th>blunt</th>\n",
              "      <th>cap</th>\n",
              "      <th>dual</th>\n",
              "      <th>erm</th>\n",
              "      <th>pen</th>\n",
              "      <th>tuf</th>\n",
              "      <th>gene</th>\n",
              "    </tr>\n",
              "  </thead>\n",
              "  <tbody>\n",
              "    <tr>\n",
              "      <th>469</th>\n",
              "      <td>2404930</td>\n",
              "      <td>283.0</td>\n",
              "      <td>65.0</td>\n",
              "      <td>109.0</td>\n",
              "      <td>94.0</td>\n",
              "      <td>47.0</td>\n",
              "      <td>128.0</td>\n",
              "      <td>gene2465</td>\n",
              "    </tr>\n",
              "    <tr>\n",
              "      <th>470</th>\n",
              "      <td>2404933</td>\n",
              "      <td>284.0</td>\n",
              "      <td>67.0</td>\n",
              "      <td>108.0</td>\n",
              "      <td>94.0</td>\n",
              "      <td>55.0</td>\n",
              "      <td>128.0</td>\n",
              "      <td>gene2465</td>\n",
              "    </tr>\n",
              "    <tr>\n",
              "      <th>471</th>\n",
              "      <td>2404937</td>\n",
              "      <td>353.0</td>\n",
              "      <td>79.0</td>\n",
              "      <td>115.0</td>\n",
              "      <td>122.0</td>\n",
              "      <td>80.0</td>\n",
              "      <td>173.0</td>\n",
              "      <td>gene2465</td>\n",
              "    </tr>\n",
              "    <tr>\n",
              "      <th>20753</th>\n",
              "      <td>511019</td>\n",
              "      <td>7399.0</td>\n",
              "      <td>2021.0</td>\n",
              "      <td>1933.0</td>\n",
              "      <td>9207.0</td>\n",
              "      <td>1860.0</td>\n",
              "      <td>3141.0</td>\n",
              "      <td>intergenic</td>\n",
              "    </tr>\n",
              "    <tr>\n",
              "      <th>20754</th>\n",
              "      <td>511024</td>\n",
              "      <td>7390.0</td>\n",
              "      <td>2017.0</td>\n",
              "      <td>1925.0</td>\n",
              "      <td>9168.0</td>\n",
              "      <td>1857.0</td>\n",
              "      <td>3130.0</td>\n",
              "      <td>intergenic</td>\n",
              "    </tr>\n",
              "  </tbody>\n",
              "</table>\n",
              "</div>"
            ],
            "text/plain": [
              "           pos   blunt     cap    dual     erm     pen     tuf        gene\n",
              "469    2404930   283.0    65.0   109.0    94.0    47.0   128.0    gene2465\n",
              "470    2404933   284.0    67.0   108.0    94.0    55.0   128.0    gene2465\n",
              "471    2404937   353.0    79.0   115.0   122.0    80.0   173.0    gene2465\n",
              "20753   511019  7399.0  2021.0  1933.0  9207.0  1860.0  3141.0  intergenic\n",
              "20754   511024  7390.0  2017.0  1925.0  9168.0  1857.0  3130.0  intergenic"
            ]
          },
          "metadata": {
            "tags": []
          },
          "execution_count": 156
        }
      ]
    },
    {
      "metadata": {
        "id": "Lzwu5NSHk3y1",
        "colab_type": "code",
        "outputId": "aa4c536b-1998-423d-d7ed-9d98d06ee807",
        "colab": {
          "base_uri": "https://localhost:8080/",
          "height": 119
        }
      },
      "cell_type": "code",
      "source": [
        "df.index"
      ],
      "execution_count": 157,
      "outputs": [
        {
          "output_type": "execute_result",
          "data": {
            "text/plain": [
              "Int64Index([   469,    470,    471,  20753,  20754,  20755,  26131,  26436,\n",
              "             26437,  26438,\n",
              "            ...\n",
              "            245491, 245492, 245493, 252032, 252850, 252851, 254003, 255351,\n",
              "            260067, 267395],\n",
              "           dtype='int64', length=104)"
            ]
          },
          "metadata": {
            "tags": []
          },
          "execution_count": 157
        }
      ]
    },
    {
      "metadata": {
        "id": "4lJMo8uZlL7T",
        "colab_type": "code",
        "outputId": "170ef142-4f99-4137-a94f-ef7f58d5f9cc",
        "colab": {
          "base_uri": "https://localhost:8080/",
          "height": 297
        }
      },
      "cell_type": "code",
      "source": [
        "df.describe()"
      ],
      "execution_count": 158,
      "outputs": [
        {
          "output_type": "execute_result",
          "data": {
            "text/html": [
              "<div>\n",
              "<style scoped>\n",
              "    .dataframe tbody tr th:only-of-type {\n",
              "        vertical-align: middle;\n",
              "    }\n",
              "\n",
              "    .dataframe tbody tr th {\n",
              "        vertical-align: top;\n",
              "    }\n",
              "\n",
              "    .dataframe thead th {\n",
              "        text-align: right;\n",
              "    }\n",
              "</style>\n",
              "<table border=\"1\" class=\"dataframe\">\n",
              "  <thead>\n",
              "    <tr style=\"text-align: right;\">\n",
              "      <th></th>\n",
              "      <th>pos</th>\n",
              "      <th>blunt</th>\n",
              "      <th>cap</th>\n",
              "      <th>dual</th>\n",
              "      <th>erm</th>\n",
              "      <th>pen</th>\n",
              "      <th>tuf</th>\n",
              "    </tr>\n",
              "  </thead>\n",
              "  <tbody>\n",
              "    <tr>\n",
              "      <th>count</th>\n",
              "      <td>1.040000e+02</td>\n",
              "      <td>104.000000</td>\n",
              "      <td>104.000000</td>\n",
              "      <td>104.000000</td>\n",
              "      <td>104.000000</td>\n",
              "      <td>104.000000</td>\n",
              "      <td>104.000000</td>\n",
              "    </tr>\n",
              "    <tr>\n",
              "      <th>mean</th>\n",
              "      <td>1.295009e+06</td>\n",
              "      <td>473.000000</td>\n",
              "      <td>145.307692</td>\n",
              "      <td>141.394231</td>\n",
              "      <td>428.307692</td>\n",
              "      <td>134.855769</td>\n",
              "      <td>221.884615</td>\n",
              "    </tr>\n",
              "    <tr>\n",
              "      <th>std</th>\n",
              "      <td>8.859577e+05</td>\n",
              "      <td>1200.109048</td>\n",
              "      <td>328.880097</td>\n",
              "      <td>319.687360</td>\n",
              "      <td>1525.561454</td>\n",
              "      <td>303.135217</td>\n",
              "      <td>510.726083</td>\n",
              "    </tr>\n",
              "    <tr>\n",
              "      <th>min</th>\n",
              "      <td>4.068300e+04</td>\n",
              "      <td>202.000000</td>\n",
              "      <td>27.000000</td>\n",
              "      <td>18.000000</td>\n",
              "      <td>35.000000</td>\n",
              "      <td>16.000000</td>\n",
              "      <td>37.000000</td>\n",
              "    </tr>\n",
              "    <tr>\n",
              "      <th>25%</th>\n",
              "      <td>5.110228e+05</td>\n",
              "      <td>217.750000</td>\n",
              "      <td>51.750000</td>\n",
              "      <td>43.750000</td>\n",
              "      <td>73.000000</td>\n",
              "      <td>49.500000</td>\n",
              "      <td>76.500000</td>\n",
              "    </tr>\n",
              "    <tr>\n",
              "      <th>50%</th>\n",
              "      <td>1.046223e+06</td>\n",
              "      <td>248.000000</td>\n",
              "      <td>77.000000</td>\n",
              "      <td>64.500000</td>\n",
              "      <td>116.500000</td>\n",
              "      <td>71.500000</td>\n",
              "      <td>116.500000</td>\n",
              "    </tr>\n",
              "    <tr>\n",
              "      <th>75%</th>\n",
              "      <td>2.105208e+06</td>\n",
              "      <td>312.750000</td>\n",
              "      <td>123.000000</td>\n",
              "      <td>108.250000</td>\n",
              "      <td>204.500000</td>\n",
              "      <td>107.000000</td>\n",
              "      <td>183.000000</td>\n",
              "    </tr>\n",
              "    <tr>\n",
              "      <th>max</th>\n",
              "      <td>2.726151e+06</td>\n",
              "      <td>7399.000000</td>\n",
              "      <td>2021.000000</td>\n",
              "      <td>1933.000000</td>\n",
              "      <td>9207.000000</td>\n",
              "      <td>1860.000000</td>\n",
              "      <td>3141.000000</td>\n",
              "    </tr>\n",
              "  </tbody>\n",
              "</table>\n",
              "</div>"
            ],
            "text/plain": [
              "                pos        blunt          cap         dual          erm  \\\n",
              "count  1.040000e+02   104.000000   104.000000   104.000000   104.000000   \n",
              "mean   1.295009e+06   473.000000   145.307692   141.394231   428.307692   \n",
              "std    8.859577e+05  1200.109048   328.880097   319.687360  1525.561454   \n",
              "min    4.068300e+04   202.000000    27.000000    18.000000    35.000000   \n",
              "25%    5.110228e+05   217.750000    51.750000    43.750000    73.000000   \n",
              "50%    1.046223e+06   248.000000    77.000000    64.500000   116.500000   \n",
              "75%    2.105208e+06   312.750000   123.000000   108.250000   204.500000   \n",
              "max    2.726151e+06  7399.000000  2021.000000  1933.000000  9207.000000   \n",
              "\n",
              "               pen          tuf  \n",
              "count   104.000000   104.000000  \n",
              "mean    134.855769   221.884615  \n",
              "std     303.135217   510.726083  \n",
              "min      16.000000    37.000000  \n",
              "25%      49.500000    76.500000  \n",
              "50%      71.500000   116.500000  \n",
              "75%     107.000000   183.000000  \n",
              "max    1860.000000  3141.000000  "
            ]
          },
          "metadata": {
            "tags": []
          },
          "execution_count": 158
        }
      ]
    },
    {
      "metadata": {
        "id": "CBHG6gbskLKW",
        "colab_type": "code",
        "colab": {}
      },
      "cell_type": "code",
      "source": [
        "df = df.sort_values(by=['pos'])"
      ],
      "execution_count": 0,
      "outputs": []
    },
    {
      "metadata": {
        "id": "R9jDq_tkMlUq",
        "colab_type": "code",
        "colab": {}
      },
      "cell_type": "code",
      "source": [
        "df = df.set_index('pos')"
      ],
      "execution_count": 0,
      "outputs": []
    },
    {
      "metadata": {
        "id": "swJeqR2RMptk",
        "colab_type": "code",
        "colab": {
          "base_uri": "https://localhost:8080/",
          "height": 235
        },
        "outputId": "bd1f4aea-71f6-4765-a91b-42fda1055926"
      },
      "cell_type": "code",
      "source": [
        "df.head()"
      ],
      "execution_count": 161,
      "outputs": [
        {
          "output_type": "execute_result",
          "data": {
            "text/html": [
              "<div>\n",
              "<style scoped>\n",
              "    .dataframe tbody tr th:only-of-type {\n",
              "        vertical-align: middle;\n",
              "    }\n",
              "\n",
              "    .dataframe tbody tr th {\n",
              "        vertical-align: top;\n",
              "    }\n",
              "\n",
              "    .dataframe thead th {\n",
              "        text-align: right;\n",
              "    }\n",
              "</style>\n",
              "<table border=\"1\" class=\"dataframe\">\n",
              "  <thead>\n",
              "    <tr style=\"text-align: right;\">\n",
              "      <th></th>\n",
              "      <th>blunt</th>\n",
              "      <th>cap</th>\n",
              "      <th>dual</th>\n",
              "      <th>erm</th>\n",
              "      <th>pen</th>\n",
              "      <th>tuf</th>\n",
              "      <th>gene</th>\n",
              "    </tr>\n",
              "    <tr>\n",
              "      <th>pos</th>\n",
              "      <th></th>\n",
              "      <th></th>\n",
              "      <th></th>\n",
              "      <th></th>\n",
              "      <th></th>\n",
              "      <th></th>\n",
              "      <th></th>\n",
              "    </tr>\n",
              "  </thead>\n",
              "  <tbody>\n",
              "    <tr>\n",
              "      <th>40683</th>\n",
              "      <td>211.0</td>\n",
              "      <td>80.0</td>\n",
              "      <td>91.0</td>\n",
              "      <td>68.0</td>\n",
              "      <td>81.0</td>\n",
              "      <td>67.0</td>\n",
              "      <td>gene35</td>\n",
              "    </tr>\n",
              "    <tr>\n",
              "      <th>103869</th>\n",
              "      <td>214.0</td>\n",
              "      <td>42.0</td>\n",
              "      <td>50.0</td>\n",
              "      <td>155.0</td>\n",
              "      <td>31.0</td>\n",
              "      <td>69.0</td>\n",
              "      <td>gene90</td>\n",
              "    </tr>\n",
              "    <tr>\n",
              "      <th>132578</th>\n",
              "      <td>202.0</td>\n",
              "      <td>70.0</td>\n",
              "      <td>99.0</td>\n",
              "      <td>194.0</td>\n",
              "      <td>107.0</td>\n",
              "      <td>157.0</td>\n",
              "      <td>gene116</td>\n",
              "    </tr>\n",
              "    <tr>\n",
              "      <th>141339</th>\n",
              "      <td>348.0</td>\n",
              "      <td>136.0</td>\n",
              "      <td>140.0</td>\n",
              "      <td>362.0</td>\n",
              "      <td>128.0</td>\n",
              "      <td>253.0</td>\n",
              "      <td>intergenic</td>\n",
              "    </tr>\n",
              "    <tr>\n",
              "      <th>141343</th>\n",
              "      <td>419.0</td>\n",
              "      <td>185.0</td>\n",
              "      <td>214.0</td>\n",
              "      <td>421.0</td>\n",
              "      <td>179.0</td>\n",
              "      <td>380.0</td>\n",
              "      <td>intergenic</td>\n",
              "    </tr>\n",
              "  </tbody>\n",
              "</table>\n",
              "</div>"
            ],
            "text/plain": [
              "        blunt    cap   dual    erm    pen    tuf        gene\n",
              "pos                                                         \n",
              "40683   211.0   80.0   91.0   68.0   81.0   67.0      gene35\n",
              "103869  214.0   42.0   50.0  155.0   31.0   69.0      gene90\n",
              "132578  202.0   70.0   99.0  194.0  107.0  157.0     gene116\n",
              "141339  348.0  136.0  140.0  362.0  128.0  253.0  intergenic\n",
              "141343  419.0  185.0  214.0  421.0  179.0  380.0  intergenic"
            ]
          },
          "metadata": {
            "tags": []
          },
          "execution_count": 161
        }
      ]
    },
    {
      "metadata": {
        "id": "V9EUNwWBzUNq",
        "colab_type": "text"
      },
      "cell_type": "markdown",
      "source": [
        "## Selection\n",
        "-------\n",
        "**Note**: While standard Python / Numpy expressions for selecting and setting are intuitive and come in handy for interactive work, for production code, we recommend the optimized pandas data access methods, `.at`, `.iat`, `.loc` and `.iloc`.\n",
        "\n",
        "See the indexing documentation:\n",
        " - [Indexing and Selecting Data](https://pandas.pydata.org/pandas-docs/stable/indexing.html#indexing)\n",
        " - [MultiIndex / Advanced Indexing](https://pandas.pydata.org/pandas-docs/stable/advanced.html#advanced)"
      ]
    },
    {
      "metadata": {
        "id": "p4fHmHALyQIw",
        "colab_type": "text"
      },
      "cell_type": "markdown",
      "source": [
        "### Getting"
      ]
    },
    {
      "metadata": {
        "id": "MGpKX9m1LEb_",
        "colab_type": "text"
      },
      "cell_type": "markdown",
      "source": [
        "Selecting via `[]`, which slices the rows."
      ]
    },
    {
      "metadata": {
        "id": "eSIrYg4rxlUP",
        "colab_type": "code",
        "outputId": "00c9f02a-7839-43e8-fce8-b5780a9357c9",
        "colab": {
          "base_uri": "https://localhost:8080/",
          "height": 173
        }
      },
      "cell_type": "code",
      "source": [
        "df[0:3]"
      ],
      "execution_count": 162,
      "outputs": [
        {
          "output_type": "execute_result",
          "data": {
            "text/html": [
              "<div>\n",
              "<style scoped>\n",
              "    .dataframe tbody tr th:only-of-type {\n",
              "        vertical-align: middle;\n",
              "    }\n",
              "\n",
              "    .dataframe tbody tr th {\n",
              "        vertical-align: top;\n",
              "    }\n",
              "\n",
              "    .dataframe thead th {\n",
              "        text-align: right;\n",
              "    }\n",
              "</style>\n",
              "<table border=\"1\" class=\"dataframe\">\n",
              "  <thead>\n",
              "    <tr style=\"text-align: right;\">\n",
              "      <th></th>\n",
              "      <th>blunt</th>\n",
              "      <th>cap</th>\n",
              "      <th>dual</th>\n",
              "      <th>erm</th>\n",
              "      <th>pen</th>\n",
              "      <th>tuf</th>\n",
              "      <th>gene</th>\n",
              "    </tr>\n",
              "    <tr>\n",
              "      <th>pos</th>\n",
              "      <th></th>\n",
              "      <th></th>\n",
              "      <th></th>\n",
              "      <th></th>\n",
              "      <th></th>\n",
              "      <th></th>\n",
              "      <th></th>\n",
              "    </tr>\n",
              "  </thead>\n",
              "  <tbody>\n",
              "    <tr>\n",
              "      <th>40683</th>\n",
              "      <td>211.0</td>\n",
              "      <td>80.0</td>\n",
              "      <td>91.0</td>\n",
              "      <td>68.0</td>\n",
              "      <td>81.0</td>\n",
              "      <td>67.0</td>\n",
              "      <td>gene35</td>\n",
              "    </tr>\n",
              "    <tr>\n",
              "      <th>103869</th>\n",
              "      <td>214.0</td>\n",
              "      <td>42.0</td>\n",
              "      <td>50.0</td>\n",
              "      <td>155.0</td>\n",
              "      <td>31.0</td>\n",
              "      <td>69.0</td>\n",
              "      <td>gene90</td>\n",
              "    </tr>\n",
              "    <tr>\n",
              "      <th>132578</th>\n",
              "      <td>202.0</td>\n",
              "      <td>70.0</td>\n",
              "      <td>99.0</td>\n",
              "      <td>194.0</td>\n",
              "      <td>107.0</td>\n",
              "      <td>157.0</td>\n",
              "      <td>gene116</td>\n",
              "    </tr>\n",
              "  </tbody>\n",
              "</table>\n",
              "</div>"
            ],
            "text/plain": [
              "        blunt   cap  dual    erm    pen    tuf     gene\n",
              "pos                                                    \n",
              "40683   211.0  80.0  91.0   68.0   81.0   67.0   gene35\n",
              "103869  214.0  42.0  50.0  155.0   31.0   69.0   gene90\n",
              "132578  202.0  70.0  99.0  194.0  107.0  157.0  gene116"
            ]
          },
          "metadata": {
            "tags": []
          },
          "execution_count": 162
        }
      ]
    },
    {
      "metadata": {
        "id": "7ZeHXunq0X8d",
        "colab_type": "text"
      },
      "cell_type": "markdown",
      "source": [
        "Selecting a single column, a `series` can be done in two ways:"
      ]
    },
    {
      "metadata": {
        "id": "BXoRnjb_x7k8",
        "colab_type": "code",
        "colab": {
          "base_uri": "https://localhost:8080/",
          "height": 136
        },
        "outputId": "c1dd3d71-974a-41c8-d323-571e27131290"
      },
      "cell_type": "code",
      "source": [
        "df.gene.head()"
      ],
      "execution_count": 163,
      "outputs": [
        {
          "output_type": "execute_result",
          "data": {
            "text/plain": [
              "pos\n",
              "40683         gene35\n",
              "103869        gene90\n",
              "132578       gene116\n",
              "141339    intergenic\n",
              "141343    intergenic\n",
              "Name: gene, dtype: object"
            ]
          },
          "metadata": {
            "tags": []
          },
          "execution_count": 163
        }
      ]
    },
    {
      "metadata": {
        "id": "4Dz7ryoOK2iX",
        "colab_type": "text"
      },
      "cell_type": "markdown",
      "source": [
        "or"
      ]
    },
    {
      "metadata": {
        "id": "sq6fQjou5Saq",
        "colab_type": "code",
        "colab": {
          "base_uri": "https://localhost:8080/",
          "height": 136
        },
        "outputId": "f7622916-20e4-4be5-d1e4-ffbcd56cf93c"
      },
      "cell_type": "code",
      "source": [
        "df['gene'].head()"
      ],
      "execution_count": 164,
      "outputs": [
        {
          "output_type": "execute_result",
          "data": {
            "text/plain": [
              "pos\n",
              "40683         gene35\n",
              "103869        gene90\n",
              "132578       gene116\n",
              "141339    intergenic\n",
              "141343    intergenic\n",
              "Name: gene, dtype: object"
            ]
          },
          "metadata": {
            "tags": []
          },
          "execution_count": 164
        }
      ]
    },
    {
      "metadata": {
        "id": "WTGxNH5mLTTE",
        "colab_type": "text"
      },
      "cell_type": "markdown",
      "source": [
        "### Selection by label\n",
        "See more in [Selection by Label](https://pandas.pydata.org/pandas-docs/stable/user_guide/indexing.html#indexing-label).\n",
        "\n",
        "For getting a cross section using a label:"
      ]
    },
    {
      "metadata": {
        "id": "oRIDA0uPLPfY",
        "colab_type": "code",
        "outputId": "13c8d3c0-3afd-40c1-fe80-f20be2d20fc6",
        "colab": {
          "base_uri": "https://localhost:8080/",
          "height": 153
        }
      },
      "cell_type": "code",
      "source": [
        "df.loc[2404930]"
      ],
      "execution_count": 165,
      "outputs": [
        {
          "output_type": "execute_result",
          "data": {
            "text/plain": [
              "blunt         283\n",
              "cap            65\n",
              "dual          109\n",
              "erm            94\n",
              "pen            47\n",
              "tuf           128\n",
              "gene     gene2465\n",
              "Name: 2404930, dtype: object"
            ]
          },
          "metadata": {
            "tags": []
          },
          "execution_count": 165
        }
      ]
    },
    {
      "metadata": {
        "id": "7-IvwuPVNOZz",
        "colab_type": "code",
        "colab": {
          "base_uri": "https://localhost:8080/",
          "height": 68
        },
        "outputId": "3e192e89-21e1-48a2-cadd-62136e9d6b02"
      },
      "cell_type": "code",
      "source": [
        "df.loc[2404930,['erm','pen']]"
      ],
      "execution_count": 166,
      "outputs": [
        {
          "output_type": "execute_result",
          "data": {
            "text/plain": [
              "erm    94\n",
              "pen    47\n",
              "Name: 2404930, dtype: object"
            ]
          },
          "metadata": {
            "tags": []
          },
          "execution_count": 166
        }
      ]
    },
    {
      "metadata": {
        "id": "kwtaABLSNObA",
        "colab_type": "code",
        "colab": {
          "base_uri": "https://localhost:8080/",
          "height": 173
        },
        "outputId": "df7b5d9e-91e0-4256-99a5-2159d578db12"
      },
      "cell_type": "code",
      "source": [
        "df.loc[2404930:2404937,['erm','pen']]"
      ],
      "execution_count": 167,
      "outputs": [
        {
          "output_type": "execute_result",
          "data": {
            "text/html": [
              "<div>\n",
              "<style scoped>\n",
              "    .dataframe tbody tr th:only-of-type {\n",
              "        vertical-align: middle;\n",
              "    }\n",
              "\n",
              "    .dataframe tbody tr th {\n",
              "        vertical-align: top;\n",
              "    }\n",
              "\n",
              "    .dataframe thead th {\n",
              "        text-align: right;\n",
              "    }\n",
              "</style>\n",
              "<table border=\"1\" class=\"dataframe\">\n",
              "  <thead>\n",
              "    <tr style=\"text-align: right;\">\n",
              "      <th></th>\n",
              "      <th>erm</th>\n",
              "      <th>pen</th>\n",
              "    </tr>\n",
              "    <tr>\n",
              "      <th>pos</th>\n",
              "      <th></th>\n",
              "      <th></th>\n",
              "    </tr>\n",
              "  </thead>\n",
              "  <tbody>\n",
              "    <tr>\n",
              "      <th>2404930</th>\n",
              "      <td>94.0</td>\n",
              "      <td>47.0</td>\n",
              "    </tr>\n",
              "    <tr>\n",
              "      <th>2404933</th>\n",
              "      <td>94.0</td>\n",
              "      <td>55.0</td>\n",
              "    </tr>\n",
              "    <tr>\n",
              "      <th>2404937</th>\n",
              "      <td>122.0</td>\n",
              "      <td>80.0</td>\n",
              "    </tr>\n",
              "  </tbody>\n",
              "</table>\n",
              "</div>"
            ],
            "text/plain": [
              "           erm   pen\n",
              "pos                 \n",
              "2404930   94.0  47.0\n",
              "2404933   94.0  55.0\n",
              "2404937  122.0  80.0"
            ]
          },
          "metadata": {
            "tags": []
          },
          "execution_count": 167
        }
      ]
    },
    {
      "metadata": {
        "id": "IGkuL2NKP879",
        "colab_type": "text"
      },
      "cell_type": "markdown",
      "source": [
        "### Selection by position\n",
        "See more in [Selection by Position](https://pandas.pydata.org/pandas-docs/stable/indexing.html#indexing-integer)\n",
        "\n",
        "Select via the position of the passed integers:"
      ]
    },
    {
      "metadata": {
        "id": "5KJyMRGBOHUM",
        "colab_type": "code",
        "colab": {
          "base_uri": "https://localhost:8080/",
          "height": 153
        },
        "outputId": "f867a6cf-ac2e-4854-d142-f6f3a9831b12"
      },
      "cell_type": "code",
      "source": [
        "df.iloc[3]"
      ],
      "execution_count": 168,
      "outputs": [
        {
          "output_type": "execute_result",
          "data": {
            "text/plain": [
              "blunt           348\n",
              "cap             136\n",
              "dual            140\n",
              "erm             362\n",
              "pen             128\n",
              "tuf             253\n",
              "gene     intergenic\n",
              "Name: 141339, dtype: object"
            ]
          },
          "metadata": {
            "tags": []
          },
          "execution_count": 168
        }
      ]
    },
    {
      "metadata": {
        "id": "zTSrsdDIQlLh",
        "colab_type": "text"
      },
      "cell_type": "markdown",
      "source": [
        "By integer slices, acting similar to numpy/python:"
      ]
    },
    {
      "metadata": {
        "id": "TfkAbktbQQcV",
        "colab_type": "code",
        "colab": {
          "base_uri": "https://localhost:8080/",
          "height": 142
        },
        "outputId": "cfce5882-6dcb-4adf-9de6-0007be9bec2a"
      },
      "cell_type": "code",
      "source": [
        "df.iloc[3:5,0:2]"
      ],
      "execution_count": 169,
      "outputs": [
        {
          "output_type": "execute_result",
          "data": {
            "text/html": [
              "<div>\n",
              "<style scoped>\n",
              "    .dataframe tbody tr th:only-of-type {\n",
              "        vertical-align: middle;\n",
              "    }\n",
              "\n",
              "    .dataframe tbody tr th {\n",
              "        vertical-align: top;\n",
              "    }\n",
              "\n",
              "    .dataframe thead th {\n",
              "        text-align: right;\n",
              "    }\n",
              "</style>\n",
              "<table border=\"1\" class=\"dataframe\">\n",
              "  <thead>\n",
              "    <tr style=\"text-align: right;\">\n",
              "      <th></th>\n",
              "      <th>blunt</th>\n",
              "      <th>cap</th>\n",
              "    </tr>\n",
              "    <tr>\n",
              "      <th>pos</th>\n",
              "      <th></th>\n",
              "      <th></th>\n",
              "    </tr>\n",
              "  </thead>\n",
              "  <tbody>\n",
              "    <tr>\n",
              "      <th>141339</th>\n",
              "      <td>348.0</td>\n",
              "      <td>136.0</td>\n",
              "    </tr>\n",
              "    <tr>\n",
              "      <th>141343</th>\n",
              "      <td>419.0</td>\n",
              "      <td>185.0</td>\n",
              "    </tr>\n",
              "  </tbody>\n",
              "</table>\n",
              "</div>"
            ],
            "text/plain": [
              "        blunt    cap\n",
              "pos                 \n",
              "141339  348.0  136.0\n",
              "141343  419.0  185.0"
            ]
          },
          "metadata": {
            "tags": []
          },
          "execution_count": 169
        }
      ]
    },
    {
      "metadata": {
        "id": "BrD41NH3Qx_3",
        "colab_type": "text"
      },
      "cell_type": "markdown",
      "source": [
        "By lists of integer position locations, similar to the numpy/python style:"
      ]
    },
    {
      "metadata": {
        "id": "0rdqpDr-Qn0E",
        "colab_type": "code",
        "colab": {
          "base_uri": "https://localhost:8080/",
          "height": 173
        },
        "outputId": "8d95fb06-6cbc-4149-c098-29d013d12f70"
      },
      "cell_type": "code",
      "source": [
        "df.iloc[[1,2,4],[0,2]]"
      ],
      "execution_count": 170,
      "outputs": [
        {
          "output_type": "execute_result",
          "data": {
            "text/html": [
              "<div>\n",
              "<style scoped>\n",
              "    .dataframe tbody tr th:only-of-type {\n",
              "        vertical-align: middle;\n",
              "    }\n",
              "\n",
              "    .dataframe tbody tr th {\n",
              "        vertical-align: top;\n",
              "    }\n",
              "\n",
              "    .dataframe thead th {\n",
              "        text-align: right;\n",
              "    }\n",
              "</style>\n",
              "<table border=\"1\" class=\"dataframe\">\n",
              "  <thead>\n",
              "    <tr style=\"text-align: right;\">\n",
              "      <th></th>\n",
              "      <th>blunt</th>\n",
              "      <th>dual</th>\n",
              "    </tr>\n",
              "    <tr>\n",
              "      <th>pos</th>\n",
              "      <th></th>\n",
              "      <th></th>\n",
              "    </tr>\n",
              "  </thead>\n",
              "  <tbody>\n",
              "    <tr>\n",
              "      <th>103869</th>\n",
              "      <td>214.0</td>\n",
              "      <td>50.0</td>\n",
              "    </tr>\n",
              "    <tr>\n",
              "      <th>132578</th>\n",
              "      <td>202.0</td>\n",
              "      <td>99.0</td>\n",
              "    </tr>\n",
              "    <tr>\n",
              "      <th>141343</th>\n",
              "      <td>419.0</td>\n",
              "      <td>214.0</td>\n",
              "    </tr>\n",
              "  </tbody>\n",
              "</table>\n",
              "</div>"
            ],
            "text/plain": [
              "        blunt   dual\n",
              "pos                 \n",
              "103869  214.0   50.0\n",
              "132578  202.0   99.0\n",
              "141343  419.0  214.0"
            ]
          },
          "metadata": {
            "tags": []
          },
          "execution_count": 170
        }
      ]
    },
    {
      "metadata": {
        "id": "Kcv71oNTQ3JI",
        "colab_type": "text"
      },
      "cell_type": "markdown",
      "source": [
        "For slicing rows explicitly:"
      ]
    },
    {
      "metadata": {
        "id": "idyGxLBXQ0vz",
        "colab_type": "code",
        "colab": {
          "base_uri": "https://localhost:8080/",
          "height": 204
        },
        "outputId": "7cd53854-783b-4daa-e1b9-608917192003"
      },
      "cell_type": "code",
      "source": [
        "df.iloc[100:,1:5]"
      ],
      "execution_count": 171,
      "outputs": [
        {
          "output_type": "execute_result",
          "data": {
            "text/html": [
              "<div>\n",
              "<style scoped>\n",
              "    .dataframe tbody tr th:only-of-type {\n",
              "        vertical-align: middle;\n",
              "    }\n",
              "\n",
              "    .dataframe tbody tr th {\n",
              "        vertical-align: top;\n",
              "    }\n",
              "\n",
              "    .dataframe thead th {\n",
              "        text-align: right;\n",
              "    }\n",
              "</style>\n",
              "<table border=\"1\" class=\"dataframe\">\n",
              "  <thead>\n",
              "    <tr style=\"text-align: right;\">\n",
              "      <th></th>\n",
              "      <th>cap</th>\n",
              "      <th>dual</th>\n",
              "      <th>erm</th>\n",
              "      <th>pen</th>\n",
              "    </tr>\n",
              "    <tr>\n",
              "      <th>pos</th>\n",
              "      <th></th>\n",
              "      <th></th>\n",
              "      <th></th>\n",
              "      <th></th>\n",
              "    </tr>\n",
              "  </thead>\n",
              "  <tbody>\n",
              "    <tr>\n",
              "      <th>2663073</th>\n",
              "      <td>141.0</td>\n",
              "      <td>61.0</td>\n",
              "      <td>137.0</td>\n",
              "      <td>85.0</td>\n",
              "    </tr>\n",
              "    <tr>\n",
              "      <th>2703968</th>\n",
              "      <td>57.0</td>\n",
              "      <td>51.0</td>\n",
              "      <td>70.0</td>\n",
              "      <td>51.0</td>\n",
              "    </tr>\n",
              "    <tr>\n",
              "      <th>2726139</th>\n",
              "      <td>107.0</td>\n",
              "      <td>542.0</td>\n",
              "      <td>155.0</td>\n",
              "      <td>84.0</td>\n",
              "    </tr>\n",
              "    <tr>\n",
              "      <th>2726151</th>\n",
              "      <td>111.0</td>\n",
              "      <td>545.0</td>\n",
              "      <td>156.0</td>\n",
              "      <td>89.0</td>\n",
              "    </tr>\n",
              "  </tbody>\n",
              "</table>\n",
              "</div>"
            ],
            "text/plain": [
              "           cap   dual    erm   pen\n",
              "pos                               \n",
              "2663073  141.0   61.0  137.0  85.0\n",
              "2703968   57.0   51.0   70.0  51.0\n",
              "2726139  107.0  542.0  155.0  84.0\n",
              "2726151  111.0  545.0  156.0  89.0"
            ]
          },
          "metadata": {
            "tags": []
          },
          "execution_count": 171
        }
      ]
    },
    {
      "metadata": {
        "id": "oTtJ0_NnRBuQ",
        "colab_type": "text"
      },
      "cell_type": "markdown",
      "source": [
        "For getting a value explicitly:"
      ]
    },
    {
      "metadata": {
        "id": "_2WKIuDYQ5aT",
        "colab_type": "code",
        "colab": {
          "base_uri": "https://localhost:8080/",
          "height": 34
        },
        "outputId": "d3905f73-0d18-4f4e-a458-b9cd33cef9b5"
      },
      "cell_type": "code",
      "source": [
        "df.iloc[1,1]"
      ],
      "execution_count": 172,
      "outputs": [
        {
          "output_type": "execute_result",
          "data": {
            "text/plain": [
              "42.0"
            ]
          },
          "metadata": {
            "tags": []
          },
          "execution_count": 172
        }
      ]
    },
    {
      "metadata": {
        "id": "QKkQ3epiRHdH",
        "colab_type": "text"
      },
      "cell_type": "markdown",
      "source": [
        "For getting fast access to a scalar (equivalent to the prior method):"
      ]
    },
    {
      "metadata": {
        "id": "mTNmcU26REE3",
        "colab_type": "code",
        "colab": {
          "base_uri": "https://localhost:8080/",
          "height": 34
        },
        "outputId": "5d701dce-639d-4469-ecb2-543637fb8656"
      },
      "cell_type": "code",
      "source": [
        "df.iat[1,1]"
      ],
      "execution_count": 173,
      "outputs": [
        {
          "output_type": "execute_result",
          "data": {
            "text/plain": [
              "42.0"
            ]
          },
          "metadata": {
            "tags": []
          },
          "execution_count": 173
        }
      ]
    },
    {
      "metadata": {
        "id": "lgIpg6eLRSXq",
        "colab_type": "text"
      },
      "cell_type": "markdown",
      "source": [
        "### Selecting based on condition (boolean indexing)\n",
        "\n",
        "Using a single column’s values to select data:"
      ]
    },
    {
      "metadata": {
        "id": "Xo8fwa76RJnn",
        "colab_type": "code",
        "colab": {
          "base_uri": "https://localhost:8080/",
          "height": 235
        },
        "outputId": "f86f24b9-ac5d-4b65-bb09-e9ee571d2fb0"
      },
      "cell_type": "code",
      "source": [
        "df[df.gene != 'intergenic'].head()"
      ],
      "execution_count": 174,
      "outputs": [
        {
          "output_type": "execute_result",
          "data": {
            "text/html": [
              "<div>\n",
              "<style scoped>\n",
              "    .dataframe tbody tr th:only-of-type {\n",
              "        vertical-align: middle;\n",
              "    }\n",
              "\n",
              "    .dataframe tbody tr th {\n",
              "        vertical-align: top;\n",
              "    }\n",
              "\n",
              "    .dataframe thead th {\n",
              "        text-align: right;\n",
              "    }\n",
              "</style>\n",
              "<table border=\"1\" class=\"dataframe\">\n",
              "  <thead>\n",
              "    <tr style=\"text-align: right;\">\n",
              "      <th></th>\n",
              "      <th>blunt</th>\n",
              "      <th>cap</th>\n",
              "      <th>dual</th>\n",
              "      <th>erm</th>\n",
              "      <th>pen</th>\n",
              "      <th>tuf</th>\n",
              "      <th>gene</th>\n",
              "    </tr>\n",
              "    <tr>\n",
              "      <th>pos</th>\n",
              "      <th></th>\n",
              "      <th></th>\n",
              "      <th></th>\n",
              "      <th></th>\n",
              "      <th></th>\n",
              "      <th></th>\n",
              "      <th></th>\n",
              "    </tr>\n",
              "  </thead>\n",
              "  <tbody>\n",
              "    <tr>\n",
              "      <th>40683</th>\n",
              "      <td>211.0</td>\n",
              "      <td>80.0</td>\n",
              "      <td>91.0</td>\n",
              "      <td>68.0</td>\n",
              "      <td>81.0</td>\n",
              "      <td>67.0</td>\n",
              "      <td>gene35</td>\n",
              "    </tr>\n",
              "    <tr>\n",
              "      <th>103869</th>\n",
              "      <td>214.0</td>\n",
              "      <td>42.0</td>\n",
              "      <td>50.0</td>\n",
              "      <td>155.0</td>\n",
              "      <td>31.0</td>\n",
              "      <td>69.0</td>\n",
              "      <td>gene90</td>\n",
              "    </tr>\n",
              "    <tr>\n",
              "      <th>132578</th>\n",
              "      <td>202.0</td>\n",
              "      <td>70.0</td>\n",
              "      <td>99.0</td>\n",
              "      <td>194.0</td>\n",
              "      <td>107.0</td>\n",
              "      <td>157.0</td>\n",
              "      <td>gene116</td>\n",
              "    </tr>\n",
              "    <tr>\n",
              "      <th>203828</th>\n",
              "      <td>287.0</td>\n",
              "      <td>45.0</td>\n",
              "      <td>35.0</td>\n",
              "      <td>72.0</td>\n",
              "      <td>84.0</td>\n",
              "      <td>223.0</td>\n",
              "      <td>gene172</td>\n",
              "    </tr>\n",
              "    <tr>\n",
              "      <th>203830</th>\n",
              "      <td>287.0</td>\n",
              "      <td>45.0</td>\n",
              "      <td>35.0</td>\n",
              "      <td>73.0</td>\n",
              "      <td>84.0</td>\n",
              "      <td>223.0</td>\n",
              "      <td>gene172</td>\n",
              "    </tr>\n",
              "  </tbody>\n",
              "</table>\n",
              "</div>"
            ],
            "text/plain": [
              "        blunt   cap  dual    erm    pen    tuf     gene\n",
              "pos                                                    \n",
              "40683   211.0  80.0  91.0   68.0   81.0   67.0   gene35\n",
              "103869  214.0  42.0  50.0  155.0   31.0   69.0   gene90\n",
              "132578  202.0  70.0  99.0  194.0  107.0  157.0  gene116\n",
              "203828  287.0  45.0  35.0   72.0   84.0  223.0  gene172\n",
              "203830  287.0  45.0  35.0   73.0   84.0  223.0  gene172"
            ]
          },
          "metadata": {
            "tags": []
          },
          "execution_count": 174
        }
      ]
    },
    {
      "metadata": {
        "id": "5gxOjjW2RnFQ",
        "colab_type": "text"
      },
      "cell_type": "markdown",
      "source": [
        "Selecting values from a DataFrame where a boolean condition is met:"
      ]
    },
    {
      "metadata": {
        "id": "0PO2_Im-RgPV",
        "colab_type": "code",
        "colab": {
          "base_uri": "https://localhost:8080/",
          "height": 235
        },
        "outputId": "92ce9503-b03c-45c2-db41-17c3680df577"
      },
      "cell_type": "code",
      "source": [
        "df[df > 0].head()"
      ],
      "execution_count": 175,
      "outputs": [
        {
          "output_type": "execute_result",
          "data": {
            "text/html": [
              "<div>\n",
              "<style scoped>\n",
              "    .dataframe tbody tr th:only-of-type {\n",
              "        vertical-align: middle;\n",
              "    }\n",
              "\n",
              "    .dataframe tbody tr th {\n",
              "        vertical-align: top;\n",
              "    }\n",
              "\n",
              "    .dataframe thead th {\n",
              "        text-align: right;\n",
              "    }\n",
              "</style>\n",
              "<table border=\"1\" class=\"dataframe\">\n",
              "  <thead>\n",
              "    <tr style=\"text-align: right;\">\n",
              "      <th></th>\n",
              "      <th>blunt</th>\n",
              "      <th>cap</th>\n",
              "      <th>dual</th>\n",
              "      <th>erm</th>\n",
              "      <th>pen</th>\n",
              "      <th>tuf</th>\n",
              "      <th>gene</th>\n",
              "    </tr>\n",
              "    <tr>\n",
              "      <th>pos</th>\n",
              "      <th></th>\n",
              "      <th></th>\n",
              "      <th></th>\n",
              "      <th></th>\n",
              "      <th></th>\n",
              "      <th></th>\n",
              "      <th></th>\n",
              "    </tr>\n",
              "  </thead>\n",
              "  <tbody>\n",
              "    <tr>\n",
              "      <th>40683</th>\n",
              "      <td>211.0</td>\n",
              "      <td>80.0</td>\n",
              "      <td>91.0</td>\n",
              "      <td>68.0</td>\n",
              "      <td>81.0</td>\n",
              "      <td>67.0</td>\n",
              "      <td>gene35</td>\n",
              "    </tr>\n",
              "    <tr>\n",
              "      <th>103869</th>\n",
              "      <td>214.0</td>\n",
              "      <td>42.0</td>\n",
              "      <td>50.0</td>\n",
              "      <td>155.0</td>\n",
              "      <td>31.0</td>\n",
              "      <td>69.0</td>\n",
              "      <td>gene90</td>\n",
              "    </tr>\n",
              "    <tr>\n",
              "      <th>132578</th>\n",
              "      <td>202.0</td>\n",
              "      <td>70.0</td>\n",
              "      <td>99.0</td>\n",
              "      <td>194.0</td>\n",
              "      <td>107.0</td>\n",
              "      <td>157.0</td>\n",
              "      <td>gene116</td>\n",
              "    </tr>\n",
              "    <tr>\n",
              "      <th>141339</th>\n",
              "      <td>348.0</td>\n",
              "      <td>136.0</td>\n",
              "      <td>140.0</td>\n",
              "      <td>362.0</td>\n",
              "      <td>128.0</td>\n",
              "      <td>253.0</td>\n",
              "      <td>intergenic</td>\n",
              "    </tr>\n",
              "    <tr>\n",
              "      <th>141343</th>\n",
              "      <td>419.0</td>\n",
              "      <td>185.0</td>\n",
              "      <td>214.0</td>\n",
              "      <td>421.0</td>\n",
              "      <td>179.0</td>\n",
              "      <td>380.0</td>\n",
              "      <td>intergenic</td>\n",
              "    </tr>\n",
              "  </tbody>\n",
              "</table>\n",
              "</div>"
            ],
            "text/plain": [
              "        blunt    cap   dual    erm    pen    tuf        gene\n",
              "pos                                                         \n",
              "40683   211.0   80.0   91.0   68.0   81.0   67.0      gene35\n",
              "103869  214.0   42.0   50.0  155.0   31.0   69.0      gene90\n",
              "132578  202.0   70.0   99.0  194.0  107.0  157.0     gene116\n",
              "141339  348.0  136.0  140.0  362.0  128.0  253.0  intergenic\n",
              "141343  419.0  185.0  214.0  421.0  179.0  380.0  intergenic"
            ]
          },
          "metadata": {
            "tags": []
          },
          "execution_count": 175
        }
      ]
    },
    {
      "metadata": {
        "id": "TCog8AsyR4qd",
        "colab_type": "text"
      },
      "cell_type": "markdown",
      "source": [
        "Using the [`isin()`](https://pandas.pydata.org/pandas-docs/stable/generated/pandas.Series.isin.html#pandas.Series.isin) method for filtering:"
      ]
    },
    {
      "metadata": {
        "id": "CXi0UP3_SpBc",
        "colab_type": "code",
        "colab": {
          "base_uri": "https://localhost:8080/",
          "height": 153
        },
        "outputId": "525f2031-f0fe-4367-9831-f831176721ce"
      },
      "cell_type": "code",
      "source": [
        "df.gene.unique()"
      ],
      "execution_count": 176,
      "outputs": [
        {
          "output_type": "execute_result",
          "data": {
            "text/plain": [
              "array(['gene35', 'gene90', 'gene116', 'intergenic', 'gene172', 'gene176',\n",
              "       'gene206', 'gene233', 'gene275', 'gene297', 'gene313', 'gene443',\n",
              "       'gene528', 'gene533', 'gene673', 'gene688', 'gene929', 'gene932',\n",
              "       'gene1016', 'gene1342', 'gene1364', 'gene1469', 'gene1516',\n",
              "       'gene1751', 'gene1753', 'gene1833', 'gene2010', 'gene2134',\n",
              "       'gene2176', 'gene2195', 'gene2209', 'gene2233', 'gene2321',\n",
              "       'gene2390', 'gene2465', 'gene2664', 'gene2707', 'gene2764',\n",
              "       'gene2787'], dtype=object)"
            ]
          },
          "metadata": {
            "tags": []
          },
          "execution_count": 176
        }
      ]
    },
    {
      "metadata": {
        "id": "KjsXlzIbR-Py",
        "colab_type": "code",
        "colab": {
          "base_uri": "https://localhost:8080/",
          "height": 235
        },
        "outputId": "6067b269-6b77-42de-d2e2-f27a57f246a9"
      },
      "cell_type": "code",
      "source": [
        "df[df['gene'].isin(['gene2465','gene206'])]"
      ],
      "execution_count": 177,
      "outputs": [
        {
          "output_type": "execute_result",
          "data": {
            "text/html": [
              "<div>\n",
              "<style scoped>\n",
              "    .dataframe tbody tr th:only-of-type {\n",
              "        vertical-align: middle;\n",
              "    }\n",
              "\n",
              "    .dataframe tbody tr th {\n",
              "        vertical-align: top;\n",
              "    }\n",
              "\n",
              "    .dataframe thead th {\n",
              "        text-align: right;\n",
              "    }\n",
              "</style>\n",
              "<table border=\"1\" class=\"dataframe\">\n",
              "  <thead>\n",
              "    <tr style=\"text-align: right;\">\n",
              "      <th></th>\n",
              "      <th>blunt</th>\n",
              "      <th>cap</th>\n",
              "      <th>dual</th>\n",
              "      <th>erm</th>\n",
              "      <th>pen</th>\n",
              "      <th>tuf</th>\n",
              "      <th>gene</th>\n",
              "    </tr>\n",
              "    <tr>\n",
              "      <th>pos</th>\n",
              "      <th></th>\n",
              "      <th></th>\n",
              "      <th></th>\n",
              "      <th></th>\n",
              "      <th></th>\n",
              "      <th></th>\n",
              "      <th></th>\n",
              "    </tr>\n",
              "  </thead>\n",
              "  <tbody>\n",
              "    <tr>\n",
              "      <th>242376</th>\n",
              "      <td>229.0</td>\n",
              "      <td>31.0</td>\n",
              "      <td>56.0</td>\n",
              "      <td>63.0</td>\n",
              "      <td>44.0</td>\n",
              "      <td>69.0</td>\n",
              "      <td>gene206</td>\n",
              "    </tr>\n",
              "    <tr>\n",
              "      <th>242378</th>\n",
              "      <td>204.0</td>\n",
              "      <td>31.0</td>\n",
              "      <td>48.0</td>\n",
              "      <td>60.0</td>\n",
              "      <td>39.0</td>\n",
              "      <td>42.0</td>\n",
              "      <td>gene206</td>\n",
              "    </tr>\n",
              "    <tr>\n",
              "      <th>2404930</th>\n",
              "      <td>283.0</td>\n",
              "      <td>65.0</td>\n",
              "      <td>109.0</td>\n",
              "      <td>94.0</td>\n",
              "      <td>47.0</td>\n",
              "      <td>128.0</td>\n",
              "      <td>gene2465</td>\n",
              "    </tr>\n",
              "    <tr>\n",
              "      <th>2404933</th>\n",
              "      <td>284.0</td>\n",
              "      <td>67.0</td>\n",
              "      <td>108.0</td>\n",
              "      <td>94.0</td>\n",
              "      <td>55.0</td>\n",
              "      <td>128.0</td>\n",
              "      <td>gene2465</td>\n",
              "    </tr>\n",
              "    <tr>\n",
              "      <th>2404937</th>\n",
              "      <td>353.0</td>\n",
              "      <td>79.0</td>\n",
              "      <td>115.0</td>\n",
              "      <td>122.0</td>\n",
              "      <td>80.0</td>\n",
              "      <td>173.0</td>\n",
              "      <td>gene2465</td>\n",
              "    </tr>\n",
              "  </tbody>\n",
              "</table>\n",
              "</div>"
            ],
            "text/plain": [
              "         blunt   cap   dual    erm   pen    tuf      gene\n",
              "pos                                                      \n",
              "242376   229.0  31.0   56.0   63.0  44.0   69.0   gene206\n",
              "242378   204.0  31.0   48.0   60.0  39.0   42.0   gene206\n",
              "2404930  283.0  65.0  109.0   94.0  47.0  128.0  gene2465\n",
              "2404933  284.0  67.0  108.0   94.0  55.0  128.0  gene2465\n",
              "2404937  353.0  79.0  115.0  122.0  80.0  173.0  gene2465"
            ]
          },
          "metadata": {
            "tags": []
          },
          "execution_count": 177
        }
      ]
    },
    {
      "metadata": {
        "id": "Jt-Zr3tBZoki",
        "colab_type": "text"
      },
      "cell_type": "markdown",
      "source": [
        "### Setting\n",
        "\n",
        "Setting a new column automatically aligns the data by the indexes:"
      ]
    },
    {
      "metadata": {
        "id": "13MhHp6uZJZL",
        "colab_type": "code",
        "colab": {}
      },
      "cell_type": "code",
      "source": [
        "gc = pd.read_table('ta_gc.txt', header=None, names=['pos','gc'])"
      ],
      "execution_count": 0,
      "outputs": []
    },
    {
      "metadata": {
        "id": "WPVVNSk5gOYr",
        "colab_type": "code",
        "colab": {}
      },
      "cell_type": "code",
      "source": [
        "gc = gc.set_index('pos')"
      ],
      "execution_count": 0,
      "outputs": []
    },
    {
      "metadata": {
        "id": "NP3q3zlniVOd",
        "colab_type": "code",
        "colab": {
          "base_uri": "https://localhost:8080/",
          "height": 235
        },
        "outputId": "ba844dba-3789-4dc1-ff3b-c7197680922d"
      },
      "cell_type": "code",
      "source": [
        "gc.head()"
      ],
      "execution_count": 180,
      "outputs": [
        {
          "output_type": "execute_result",
          "data": {
            "text/html": [
              "<div>\n",
              "<style scoped>\n",
              "    .dataframe tbody tr th:only-of-type {\n",
              "        vertical-align: middle;\n",
              "    }\n",
              "\n",
              "    .dataframe tbody tr th {\n",
              "        vertical-align: top;\n",
              "    }\n",
              "\n",
              "    .dataframe thead th {\n",
              "        text-align: right;\n",
              "    }\n",
              "</style>\n",
              "<table border=\"1\" class=\"dataframe\">\n",
              "  <thead>\n",
              "    <tr style=\"text-align: right;\">\n",
              "      <th></th>\n",
              "      <th>gc</th>\n",
              "    </tr>\n",
              "    <tr>\n",
              "      <th>pos</th>\n",
              "      <th></th>\n",
              "    </tr>\n",
              "  </thead>\n",
              "  <tbody>\n",
              "    <tr>\n",
              "      <th>4</th>\n",
              "      <td>0.339286</td>\n",
              "    </tr>\n",
              "    <tr>\n",
              "      <th>10</th>\n",
              "      <td>0.354839</td>\n",
              "    </tr>\n",
              "    <tr>\n",
              "      <th>16</th>\n",
              "      <td>0.367647</td>\n",
              "    </tr>\n",
              "    <tr>\n",
              "      <th>42</th>\n",
              "      <td>0.372340</td>\n",
              "    </tr>\n",
              "    <tr>\n",
              "      <th>79</th>\n",
              "      <td>0.303922</td>\n",
              "    </tr>\n",
              "  </tbody>\n",
              "</table>\n",
              "</div>"
            ],
            "text/plain": [
              "           gc\n",
              "pos          \n",
              "4    0.339286\n",
              "10   0.354839\n",
              "16   0.367647\n",
              "42   0.372340\n",
              "79   0.303922"
            ]
          },
          "metadata": {
            "tags": []
          },
          "execution_count": 180
        }
      ]
    },
    {
      "metadata": {
        "id": "TpHPDid7gUTJ",
        "colab_type": "code",
        "colab": {}
      },
      "cell_type": "code",
      "source": [
        "df['gc'] = gc"
      ],
      "execution_count": 0,
      "outputs": []
    },
    {
      "metadata": {
        "id": "8yK8CNHLgdUQ",
        "colab_type": "code",
        "colab": {
          "base_uri": "https://localhost:8080/",
          "height": 235
        },
        "outputId": "eed0328f-8cd8-4a4b-bf73-98cdc04f5fcd"
      },
      "cell_type": "code",
      "source": [
        "df.head()"
      ],
      "execution_count": 182,
      "outputs": [
        {
          "output_type": "execute_result",
          "data": {
            "text/html": [
              "<div>\n",
              "<style scoped>\n",
              "    .dataframe tbody tr th:only-of-type {\n",
              "        vertical-align: middle;\n",
              "    }\n",
              "\n",
              "    .dataframe tbody tr th {\n",
              "        vertical-align: top;\n",
              "    }\n",
              "\n",
              "    .dataframe thead th {\n",
              "        text-align: right;\n",
              "    }\n",
              "</style>\n",
              "<table border=\"1\" class=\"dataframe\">\n",
              "  <thead>\n",
              "    <tr style=\"text-align: right;\">\n",
              "      <th></th>\n",
              "      <th>blunt</th>\n",
              "      <th>cap</th>\n",
              "      <th>dual</th>\n",
              "      <th>erm</th>\n",
              "      <th>pen</th>\n",
              "      <th>tuf</th>\n",
              "      <th>gene</th>\n",
              "      <th>gc</th>\n",
              "    </tr>\n",
              "    <tr>\n",
              "      <th>pos</th>\n",
              "      <th></th>\n",
              "      <th></th>\n",
              "      <th></th>\n",
              "      <th></th>\n",
              "      <th></th>\n",
              "      <th></th>\n",
              "      <th></th>\n",
              "      <th></th>\n",
              "    </tr>\n",
              "  </thead>\n",
              "  <tbody>\n",
              "    <tr>\n",
              "      <th>40683</th>\n",
              "      <td>211.0</td>\n",
              "      <td>80.0</td>\n",
              "      <td>91.0</td>\n",
              "      <td>68.0</td>\n",
              "      <td>81.0</td>\n",
              "      <td>67.0</td>\n",
              "      <td>gene35</td>\n",
              "      <td>0.264706</td>\n",
              "    </tr>\n",
              "    <tr>\n",
              "      <th>103869</th>\n",
              "      <td>214.0</td>\n",
              "      <td>42.0</td>\n",
              "      <td>50.0</td>\n",
              "      <td>155.0</td>\n",
              "      <td>31.0</td>\n",
              "      <td>69.0</td>\n",
              "      <td>gene90</td>\n",
              "      <td>0.264706</td>\n",
              "    </tr>\n",
              "    <tr>\n",
              "      <th>132578</th>\n",
              "      <td>202.0</td>\n",
              "      <td>70.0</td>\n",
              "      <td>99.0</td>\n",
              "      <td>194.0</td>\n",
              "      <td>107.0</td>\n",
              "      <td>157.0</td>\n",
              "      <td>gene116</td>\n",
              "      <td>0.274510</td>\n",
              "    </tr>\n",
              "    <tr>\n",
              "      <th>141339</th>\n",
              "      <td>348.0</td>\n",
              "      <td>136.0</td>\n",
              "      <td>140.0</td>\n",
              "      <td>362.0</td>\n",
              "      <td>128.0</td>\n",
              "      <td>253.0</td>\n",
              "      <td>intergenic</td>\n",
              "      <td>0.333333</td>\n",
              "    </tr>\n",
              "    <tr>\n",
              "      <th>141343</th>\n",
              "      <td>419.0</td>\n",
              "      <td>185.0</td>\n",
              "      <td>214.0</td>\n",
              "      <td>421.0</td>\n",
              "      <td>179.0</td>\n",
              "      <td>380.0</td>\n",
              "      <td>intergenic</td>\n",
              "      <td>0.323529</td>\n",
              "    </tr>\n",
              "  </tbody>\n",
              "</table>\n",
              "</div>"
            ],
            "text/plain": [
              "        blunt    cap   dual    erm    pen    tuf        gene        gc\n",
              "pos                                                                   \n",
              "40683   211.0   80.0   91.0   68.0   81.0   67.0      gene35  0.264706\n",
              "103869  214.0   42.0   50.0  155.0   31.0   69.0      gene90  0.264706\n",
              "132578  202.0   70.0   99.0  194.0  107.0  157.0     gene116  0.274510\n",
              "141339  348.0  136.0  140.0  362.0  128.0  253.0  intergenic  0.333333\n",
              "141343  419.0  185.0  214.0  421.0  179.0  380.0  intergenic  0.323529"
            ]
          },
          "metadata": {
            "tags": []
          },
          "execution_count": 182
        }
      ]
    },
    {
      "metadata": {
        "id": "BvaF_kp_i-1B",
        "colab_type": "text"
      },
      "cell_type": "markdown",
      "source": [
        "Setting values by label:"
      ]
    },
    {
      "metadata": {
        "id": "0NfWc00xge7R",
        "colab_type": "code",
        "colab": {}
      },
      "cell_type": "code",
      "source": [
        "df.at[2,'erm'] = 0"
      ],
      "execution_count": 0,
      "outputs": []
    },
    {
      "metadata": {
        "id": "LT_wwXpMiyjC",
        "colab_type": "code",
        "colab": {
          "base_uri": "https://localhost:8080/",
          "height": 170
        },
        "outputId": "bbe6ce0e-5080-4b51-9d8c-e54ba2821e92"
      },
      "cell_type": "code",
      "source": [
        "df.loc[2]"
      ],
      "execution_count": 184,
      "outputs": [
        {
          "output_type": "execute_result",
          "data": {
            "text/plain": [
              "blunt    NaN\n",
              "cap      NaN\n",
              "dual     NaN\n",
              "erm        0\n",
              "pen      NaN\n",
              "tuf      NaN\n",
              "gene     NaN\n",
              "gc       NaN\n",
              "Name: 2, dtype: object"
            ]
          },
          "metadata": {
            "tags": []
          },
          "execution_count": 184
        }
      ]
    },
    {
      "metadata": {
        "id": "fv7KFUy4jL3w",
        "colab_type": "code",
        "colab": {}
      },
      "cell_type": "code",
      "source": [
        "df = df.sort_index()"
      ],
      "execution_count": 0,
      "outputs": []
    },
    {
      "metadata": {
        "id": "_VQWONs2k0Ms",
        "colab_type": "code",
        "colab": {
          "base_uri": "https://localhost:8080/",
          "height": 235
        },
        "outputId": "9b801eb8-5419-457d-800b-fd192082a02a"
      },
      "cell_type": "code",
      "source": [
        "df.head()"
      ],
      "execution_count": 189,
      "outputs": [
        {
          "output_type": "execute_result",
          "data": {
            "text/html": [
              "<div>\n",
              "<style scoped>\n",
              "    .dataframe tbody tr th:only-of-type {\n",
              "        vertical-align: middle;\n",
              "    }\n",
              "\n",
              "    .dataframe tbody tr th {\n",
              "        vertical-align: top;\n",
              "    }\n",
              "\n",
              "    .dataframe thead th {\n",
              "        text-align: right;\n",
              "    }\n",
              "</style>\n",
              "<table border=\"1\" class=\"dataframe\">\n",
              "  <thead>\n",
              "    <tr style=\"text-align: right;\">\n",
              "      <th></th>\n",
              "      <th>blunt</th>\n",
              "      <th>cap</th>\n",
              "      <th>dual</th>\n",
              "      <th>erm</th>\n",
              "      <th>pen</th>\n",
              "      <th>tuf</th>\n",
              "      <th>gene</th>\n",
              "      <th>gc</th>\n",
              "    </tr>\n",
              "    <tr>\n",
              "      <th>pos</th>\n",
              "      <th></th>\n",
              "      <th></th>\n",
              "      <th></th>\n",
              "      <th></th>\n",
              "      <th></th>\n",
              "      <th></th>\n",
              "      <th></th>\n",
              "      <th></th>\n",
              "    </tr>\n",
              "  </thead>\n",
              "  <tbody>\n",
              "    <tr>\n",
              "      <th>2</th>\n",
              "      <td>NaN</td>\n",
              "      <td>NaN</td>\n",
              "      <td>NaN</td>\n",
              "      <td>0.0</td>\n",
              "      <td>NaN</td>\n",
              "      <td>NaN</td>\n",
              "      <td>NaN</td>\n",
              "      <td>NaN</td>\n",
              "    </tr>\n",
              "    <tr>\n",
              "      <th>40683</th>\n",
              "      <td>211.0</td>\n",
              "      <td>80.0</td>\n",
              "      <td>91.0</td>\n",
              "      <td>68.0</td>\n",
              "      <td>81.0</td>\n",
              "      <td>67.0</td>\n",
              "      <td>gene35</td>\n",
              "      <td>0.264706</td>\n",
              "    </tr>\n",
              "    <tr>\n",
              "      <th>103869</th>\n",
              "      <td>214.0</td>\n",
              "      <td>42.0</td>\n",
              "      <td>50.0</td>\n",
              "      <td>155.0</td>\n",
              "      <td>31.0</td>\n",
              "      <td>69.0</td>\n",
              "      <td>gene90</td>\n",
              "      <td>0.264706</td>\n",
              "    </tr>\n",
              "    <tr>\n",
              "      <th>132578</th>\n",
              "      <td>202.0</td>\n",
              "      <td>70.0</td>\n",
              "      <td>99.0</td>\n",
              "      <td>194.0</td>\n",
              "      <td>107.0</td>\n",
              "      <td>157.0</td>\n",
              "      <td>gene116</td>\n",
              "      <td>0.274510</td>\n",
              "    </tr>\n",
              "    <tr>\n",
              "      <th>141339</th>\n",
              "      <td>348.0</td>\n",
              "      <td>136.0</td>\n",
              "      <td>140.0</td>\n",
              "      <td>362.0</td>\n",
              "      <td>128.0</td>\n",
              "      <td>253.0</td>\n",
              "      <td>intergenic</td>\n",
              "      <td>0.333333</td>\n",
              "    </tr>\n",
              "  </tbody>\n",
              "</table>\n",
              "</div>"
            ],
            "text/plain": [
              "        blunt    cap   dual    erm    pen    tuf        gene        gc\n",
              "pos                                                                   \n",
              "2         NaN    NaN    NaN    0.0    NaN    NaN         NaN       NaN\n",
              "40683   211.0   80.0   91.0   68.0   81.0   67.0      gene35  0.264706\n",
              "103869  214.0   42.0   50.0  155.0   31.0   69.0      gene90  0.264706\n",
              "132578  202.0   70.0   99.0  194.0  107.0  157.0     gene116  0.274510\n",
              "141339  348.0  136.0  140.0  362.0  128.0  253.0  intergenic  0.333333"
            ]
          },
          "metadata": {
            "tags": []
          },
          "execution_count": 189
        }
      ]
    },
    {
      "metadata": {
        "id": "p_XQn_G2l_9A",
        "colab_type": "text"
      },
      "cell_type": "markdown",
      "source": [
        "## Missing data\n",
        "-------\n",
        "pandas primarily uses the value `np.nan` to represent missing data. It is by default not included in computations. See the [Missing Data section](https://pandas.pydata.org/pandas-docs/stable/missing_data.html#missing-data)."
      ]
    },
    {
      "metadata": {
        "id": "E4OyyjkmmKr5",
        "colab_type": "text"
      },
      "cell_type": "markdown",
      "source": [
        "To drop any rows that have missing data:"
      ]
    },
    {
      "metadata": {
        "id": "wMhfsPo4lcSc",
        "colab_type": "code",
        "colab": {
          "base_uri": "https://localhost:8080/",
          "height": 235
        },
        "outputId": "f3c1f7da-8629-4114-803f-b53adce35241"
      },
      "cell_type": "code",
      "source": [
        "df.dropna(how='any').head()"
      ],
      "execution_count": 194,
      "outputs": [
        {
          "output_type": "execute_result",
          "data": {
            "text/html": [
              "<div>\n",
              "<style scoped>\n",
              "    .dataframe tbody tr th:only-of-type {\n",
              "        vertical-align: middle;\n",
              "    }\n",
              "\n",
              "    .dataframe tbody tr th {\n",
              "        vertical-align: top;\n",
              "    }\n",
              "\n",
              "    .dataframe thead th {\n",
              "        text-align: right;\n",
              "    }\n",
              "</style>\n",
              "<table border=\"1\" class=\"dataframe\">\n",
              "  <thead>\n",
              "    <tr style=\"text-align: right;\">\n",
              "      <th></th>\n",
              "      <th>blunt</th>\n",
              "      <th>cap</th>\n",
              "      <th>dual</th>\n",
              "      <th>erm</th>\n",
              "      <th>pen</th>\n",
              "      <th>tuf</th>\n",
              "      <th>gene</th>\n",
              "      <th>gc</th>\n",
              "    </tr>\n",
              "    <tr>\n",
              "      <th>pos</th>\n",
              "      <th></th>\n",
              "      <th></th>\n",
              "      <th></th>\n",
              "      <th></th>\n",
              "      <th></th>\n",
              "      <th></th>\n",
              "      <th></th>\n",
              "      <th></th>\n",
              "    </tr>\n",
              "  </thead>\n",
              "  <tbody>\n",
              "    <tr>\n",
              "      <th>40683</th>\n",
              "      <td>211.0</td>\n",
              "      <td>80.0</td>\n",
              "      <td>91.0</td>\n",
              "      <td>68.0</td>\n",
              "      <td>81.0</td>\n",
              "      <td>67.0</td>\n",
              "      <td>gene35</td>\n",
              "      <td>0.264706</td>\n",
              "    </tr>\n",
              "    <tr>\n",
              "      <th>103869</th>\n",
              "      <td>214.0</td>\n",
              "      <td>42.0</td>\n",
              "      <td>50.0</td>\n",
              "      <td>155.0</td>\n",
              "      <td>31.0</td>\n",
              "      <td>69.0</td>\n",
              "      <td>gene90</td>\n",
              "      <td>0.264706</td>\n",
              "    </tr>\n",
              "    <tr>\n",
              "      <th>132578</th>\n",
              "      <td>202.0</td>\n",
              "      <td>70.0</td>\n",
              "      <td>99.0</td>\n",
              "      <td>194.0</td>\n",
              "      <td>107.0</td>\n",
              "      <td>157.0</td>\n",
              "      <td>gene116</td>\n",
              "      <td>0.274510</td>\n",
              "    </tr>\n",
              "    <tr>\n",
              "      <th>141339</th>\n",
              "      <td>348.0</td>\n",
              "      <td>136.0</td>\n",
              "      <td>140.0</td>\n",
              "      <td>362.0</td>\n",
              "      <td>128.0</td>\n",
              "      <td>253.0</td>\n",
              "      <td>intergenic</td>\n",
              "      <td>0.333333</td>\n",
              "    </tr>\n",
              "    <tr>\n",
              "      <th>141343</th>\n",
              "      <td>419.0</td>\n",
              "      <td>185.0</td>\n",
              "      <td>214.0</td>\n",
              "      <td>421.0</td>\n",
              "      <td>179.0</td>\n",
              "      <td>380.0</td>\n",
              "      <td>intergenic</td>\n",
              "      <td>0.323529</td>\n",
              "    </tr>\n",
              "  </tbody>\n",
              "</table>\n",
              "</div>"
            ],
            "text/plain": [
              "        blunt    cap   dual    erm    pen    tuf        gene        gc\n",
              "pos                                                                   \n",
              "40683   211.0   80.0   91.0   68.0   81.0   67.0      gene35  0.264706\n",
              "103869  214.0   42.0   50.0  155.0   31.0   69.0      gene90  0.264706\n",
              "132578  202.0   70.0   99.0  194.0  107.0  157.0     gene116  0.274510\n",
              "141339  348.0  136.0  140.0  362.0  128.0  253.0  intergenic  0.333333\n",
              "141343  419.0  185.0  214.0  421.0  179.0  380.0  intergenic  0.323529"
            ]
          },
          "metadata": {
            "tags": []
          },
          "execution_count": 194
        }
      ]
    },
    {
      "metadata": {
        "id": "xoIMvYzxmvLl",
        "colab_type": "text"
      },
      "cell_type": "markdown",
      "source": [
        "Filling missing data"
      ]
    },
    {
      "metadata": {
        "id": "rwaQeOTTmnKQ",
        "colab_type": "code",
        "colab": {
          "base_uri": "https://localhost:8080/",
          "height": 235
        },
        "outputId": "c3b3caf2-275c-4e53-fb18-b0ab051cdc13"
      },
      "cell_type": "code",
      "source": [
        "df.fillna(value='0').head()"
      ],
      "execution_count": 199,
      "outputs": [
        {
          "output_type": "execute_result",
          "data": {
            "text/html": [
              "<div>\n",
              "<style scoped>\n",
              "    .dataframe tbody tr th:only-of-type {\n",
              "        vertical-align: middle;\n",
              "    }\n",
              "\n",
              "    .dataframe tbody tr th {\n",
              "        vertical-align: top;\n",
              "    }\n",
              "\n",
              "    .dataframe thead th {\n",
              "        text-align: right;\n",
              "    }\n",
              "</style>\n",
              "<table border=\"1\" class=\"dataframe\">\n",
              "  <thead>\n",
              "    <tr style=\"text-align: right;\">\n",
              "      <th></th>\n",
              "      <th>blunt</th>\n",
              "      <th>cap</th>\n",
              "      <th>dual</th>\n",
              "      <th>erm</th>\n",
              "      <th>pen</th>\n",
              "      <th>tuf</th>\n",
              "      <th>gene</th>\n",
              "      <th>gc</th>\n",
              "    </tr>\n",
              "    <tr>\n",
              "      <th>pos</th>\n",
              "      <th></th>\n",
              "      <th></th>\n",
              "      <th></th>\n",
              "      <th></th>\n",
              "      <th></th>\n",
              "      <th></th>\n",
              "      <th></th>\n",
              "      <th></th>\n",
              "    </tr>\n",
              "  </thead>\n",
              "  <tbody>\n",
              "    <tr>\n",
              "      <th>2</th>\n",
              "      <td>0</td>\n",
              "      <td>0</td>\n",
              "      <td>0</td>\n",
              "      <td>0.0</td>\n",
              "      <td>0</td>\n",
              "      <td>0</td>\n",
              "      <td>0</td>\n",
              "      <td>0</td>\n",
              "    </tr>\n",
              "    <tr>\n",
              "      <th>40683</th>\n",
              "      <td>211</td>\n",
              "      <td>80</td>\n",
              "      <td>91</td>\n",
              "      <td>68.0</td>\n",
              "      <td>81</td>\n",
              "      <td>67</td>\n",
              "      <td>gene35</td>\n",
              "      <td>0.264706</td>\n",
              "    </tr>\n",
              "    <tr>\n",
              "      <th>103869</th>\n",
              "      <td>214</td>\n",
              "      <td>42</td>\n",
              "      <td>50</td>\n",
              "      <td>155.0</td>\n",
              "      <td>31</td>\n",
              "      <td>69</td>\n",
              "      <td>gene90</td>\n",
              "      <td>0.264706</td>\n",
              "    </tr>\n",
              "    <tr>\n",
              "      <th>132578</th>\n",
              "      <td>202</td>\n",
              "      <td>70</td>\n",
              "      <td>99</td>\n",
              "      <td>194.0</td>\n",
              "      <td>107</td>\n",
              "      <td>157</td>\n",
              "      <td>gene116</td>\n",
              "      <td>0.27451</td>\n",
              "    </tr>\n",
              "    <tr>\n",
              "      <th>141339</th>\n",
              "      <td>348</td>\n",
              "      <td>136</td>\n",
              "      <td>140</td>\n",
              "      <td>362.0</td>\n",
              "      <td>128</td>\n",
              "      <td>253</td>\n",
              "      <td>intergenic</td>\n",
              "      <td>0.333333</td>\n",
              "    </tr>\n",
              "  </tbody>\n",
              "</table>\n",
              "</div>"
            ],
            "text/plain": [
              "       blunt  cap dual    erm  pen  tuf        gene        gc\n",
              "pos                                                          \n",
              "2          0    0    0    0.0    0    0           0         0\n",
              "40683    211   80   91   68.0   81   67      gene35  0.264706\n",
              "103869   214   42   50  155.0   31   69      gene90  0.264706\n",
              "132578   202   70   99  194.0  107  157     gene116   0.27451\n",
              "141339   348  136  140  362.0  128  253  intergenic  0.333333"
            ]
          },
          "metadata": {
            "tags": []
          },
          "execution_count": 199
        }
      ]
    },
    {
      "metadata": {
        "id": "jSLFlY73m17z",
        "colab_type": "code",
        "colab": {
          "base_uri": "https://localhost:8080/",
          "height": 235
        },
        "outputId": "2905c775-a3f3-47b9-c3ef-cd4e6d7f9a48"
      },
      "cell_type": "code",
      "source": [
        "df.isna().head()"
      ],
      "execution_count": 202,
      "outputs": [
        {
          "output_type": "execute_result",
          "data": {
            "text/html": [
              "<div>\n",
              "<style scoped>\n",
              "    .dataframe tbody tr th:only-of-type {\n",
              "        vertical-align: middle;\n",
              "    }\n",
              "\n",
              "    .dataframe tbody tr th {\n",
              "        vertical-align: top;\n",
              "    }\n",
              "\n",
              "    .dataframe thead th {\n",
              "        text-align: right;\n",
              "    }\n",
              "</style>\n",
              "<table border=\"1\" class=\"dataframe\">\n",
              "  <thead>\n",
              "    <tr style=\"text-align: right;\">\n",
              "      <th></th>\n",
              "      <th>blunt</th>\n",
              "      <th>cap</th>\n",
              "      <th>dual</th>\n",
              "      <th>erm</th>\n",
              "      <th>pen</th>\n",
              "      <th>tuf</th>\n",
              "      <th>gene</th>\n",
              "      <th>gc</th>\n",
              "    </tr>\n",
              "    <tr>\n",
              "      <th>pos</th>\n",
              "      <th></th>\n",
              "      <th></th>\n",
              "      <th></th>\n",
              "      <th></th>\n",
              "      <th></th>\n",
              "      <th></th>\n",
              "      <th></th>\n",
              "      <th></th>\n",
              "    </tr>\n",
              "  </thead>\n",
              "  <tbody>\n",
              "    <tr>\n",
              "      <th>2</th>\n",
              "      <td>True</td>\n",
              "      <td>True</td>\n",
              "      <td>True</td>\n",
              "      <td>False</td>\n",
              "      <td>True</td>\n",
              "      <td>True</td>\n",
              "      <td>True</td>\n",
              "      <td>True</td>\n",
              "    </tr>\n",
              "    <tr>\n",
              "      <th>40683</th>\n",
              "      <td>False</td>\n",
              "      <td>False</td>\n",
              "      <td>False</td>\n",
              "      <td>False</td>\n",
              "      <td>False</td>\n",
              "      <td>False</td>\n",
              "      <td>False</td>\n",
              "      <td>False</td>\n",
              "    </tr>\n",
              "    <tr>\n",
              "      <th>103869</th>\n",
              "      <td>False</td>\n",
              "      <td>False</td>\n",
              "      <td>False</td>\n",
              "      <td>False</td>\n",
              "      <td>False</td>\n",
              "      <td>False</td>\n",
              "      <td>False</td>\n",
              "      <td>False</td>\n",
              "    </tr>\n",
              "    <tr>\n",
              "      <th>132578</th>\n",
              "      <td>False</td>\n",
              "      <td>False</td>\n",
              "      <td>False</td>\n",
              "      <td>False</td>\n",
              "      <td>False</td>\n",
              "      <td>False</td>\n",
              "      <td>False</td>\n",
              "      <td>False</td>\n",
              "    </tr>\n",
              "    <tr>\n",
              "      <th>141339</th>\n",
              "      <td>False</td>\n",
              "      <td>False</td>\n",
              "      <td>False</td>\n",
              "      <td>False</td>\n",
              "      <td>False</td>\n",
              "      <td>False</td>\n",
              "      <td>False</td>\n",
              "      <td>False</td>\n",
              "    </tr>\n",
              "  </tbody>\n",
              "</table>\n",
              "</div>"
            ],
            "text/plain": [
              "        blunt    cap   dual    erm    pen    tuf   gene     gc\n",
              "pos                                                           \n",
              "2        True   True   True  False   True   True   True   True\n",
              "40683   False  False  False  False  False  False  False  False\n",
              "103869  False  False  False  False  False  False  False  False\n",
              "132578  False  False  False  False  False  False  False  False\n",
              "141339  False  False  False  False  False  False  False  False"
            ]
          },
          "metadata": {
            "tags": []
          },
          "execution_count": 202
        }
      ]
    },
    {
      "metadata": {
        "id": "CIS10PH3qOfc",
        "colab_type": "text"
      },
      "cell_type": "markdown",
      "source": [
        "## Operations\n",
        "-------\n",
        "See the [Basic section on Binary Ops](https://pandas.pydata.org/pandas-docs/stable/basics.html#basics-binop)."
      ]
    },
    {
      "metadata": {
        "id": "ZzhtKHo6qZqu",
        "colab_type": "text"
      },
      "cell_type": "markdown",
      "source": [
        "### Stats\n",
        "\n",
        "Operations in general exclude missing data.\n",
        "\n",
        "Performing a descriptive statistic:"
      ]
    },
    {
      "metadata": {
        "id": "P2LdMGE6nJU1",
        "colab_type": "code",
        "colab": {
          "base_uri": "https://localhost:8080/",
          "height": 153
        },
        "outputId": "3f11370e-046c-48cb-ec8f-879267f9995d"
      },
      "cell_type": "code",
      "source": [
        "df.mean()"
      ],
      "execution_count": 204,
      "outputs": [
        {
          "output_type": "execute_result",
          "data": {
            "text/plain": [
              "blunt    473.000000\n",
              "cap      145.307692\n",
              "dual     141.394231\n",
              "erm      424.228571\n",
              "pen      134.855769\n",
              "tuf      221.884615\n",
              "gc         0.316365\n",
              "dtype: float64"
            ]
          },
          "metadata": {
            "tags": []
          },
          "execution_count": 204
        }
      ]
    },
    {
      "metadata": {
        "id": "kkK6rQX8qi_H",
        "colab_type": "text"
      },
      "cell_type": "markdown",
      "source": [
        "Same operation on the other axis:"
      ]
    },
    {
      "metadata": {
        "id": "bQW0pLcbqf-8",
        "colab_type": "code",
        "colab": {
          "base_uri": "https://localhost:8080/",
          "height": 136
        },
        "outputId": "d06583d2-0502-45cc-d866-654a78a81370"
      },
      "cell_type": "code",
      "source": [
        "df.mean(1).head()"
      ],
      "execution_count": 206,
      "outputs": [
        {
          "output_type": "execute_result",
          "data": {
            "text/plain": [
              "pos\n",
              "2           0.000000\n",
              "40683      85.466387\n",
              "103869     80.180672\n",
              "132578    118.467787\n",
              "141339    195.333333\n",
              "dtype: float64"
            ]
          },
          "metadata": {
            "tags": []
          },
          "execution_count": 206
        }
      ]
    },
    {
      "metadata": {
        "id": "lJcWZJ9PrxWS",
        "colab_type": "text"
      },
      "cell_type": "markdown",
      "source": [
        "### Apply\n",
        "Apply functions to the data:"
      ]
    },
    {
      "metadata": {
        "id": "rb5wd-btrR2r",
        "colab_type": "code",
        "colab": {
          "base_uri": "https://localhost:8080/",
          "height": 235
        },
        "outputId": "860d7ae9-5810-4a2b-dbc6-4b491b4505c1"
      },
      "cell_type": "code",
      "source": [
        "df.head()"
      ],
      "execution_count": 211,
      "outputs": [
        {
          "output_type": "execute_result",
          "data": {
            "text/html": [
              "<div>\n",
              "<style scoped>\n",
              "    .dataframe tbody tr th:only-of-type {\n",
              "        vertical-align: middle;\n",
              "    }\n",
              "\n",
              "    .dataframe tbody tr th {\n",
              "        vertical-align: top;\n",
              "    }\n",
              "\n",
              "    .dataframe thead th {\n",
              "        text-align: right;\n",
              "    }\n",
              "</style>\n",
              "<table border=\"1\" class=\"dataframe\">\n",
              "  <thead>\n",
              "    <tr style=\"text-align: right;\">\n",
              "      <th></th>\n",
              "      <th>blunt</th>\n",
              "      <th>cap</th>\n",
              "      <th>dual</th>\n",
              "      <th>erm</th>\n",
              "      <th>pen</th>\n",
              "      <th>tuf</th>\n",
              "      <th>gene</th>\n",
              "      <th>gc</th>\n",
              "    </tr>\n",
              "    <tr>\n",
              "      <th>pos</th>\n",
              "      <th></th>\n",
              "      <th></th>\n",
              "      <th></th>\n",
              "      <th></th>\n",
              "      <th></th>\n",
              "      <th></th>\n",
              "      <th></th>\n",
              "      <th></th>\n",
              "    </tr>\n",
              "  </thead>\n",
              "  <tbody>\n",
              "    <tr>\n",
              "      <th>2</th>\n",
              "      <td>NaN</td>\n",
              "      <td>NaN</td>\n",
              "      <td>NaN</td>\n",
              "      <td>0.0</td>\n",
              "      <td>NaN</td>\n",
              "      <td>NaN</td>\n",
              "      <td>NaN</td>\n",
              "      <td>NaN</td>\n",
              "    </tr>\n",
              "    <tr>\n",
              "      <th>40683</th>\n",
              "      <td>211.0</td>\n",
              "      <td>80.0</td>\n",
              "      <td>91.0</td>\n",
              "      <td>68.0</td>\n",
              "      <td>81.0</td>\n",
              "      <td>67.0</td>\n",
              "      <td>gene35</td>\n",
              "      <td>0.264706</td>\n",
              "    </tr>\n",
              "    <tr>\n",
              "      <th>103869</th>\n",
              "      <td>214.0</td>\n",
              "      <td>42.0</td>\n",
              "      <td>50.0</td>\n",
              "      <td>155.0</td>\n",
              "      <td>31.0</td>\n",
              "      <td>69.0</td>\n",
              "      <td>gene90</td>\n",
              "      <td>0.264706</td>\n",
              "    </tr>\n",
              "    <tr>\n",
              "      <th>132578</th>\n",
              "      <td>202.0</td>\n",
              "      <td>70.0</td>\n",
              "      <td>99.0</td>\n",
              "      <td>194.0</td>\n",
              "      <td>107.0</td>\n",
              "      <td>157.0</td>\n",
              "      <td>gene116</td>\n",
              "      <td>0.274510</td>\n",
              "    </tr>\n",
              "    <tr>\n",
              "      <th>141339</th>\n",
              "      <td>348.0</td>\n",
              "      <td>136.0</td>\n",
              "      <td>140.0</td>\n",
              "      <td>362.0</td>\n",
              "      <td>128.0</td>\n",
              "      <td>253.0</td>\n",
              "      <td>intergenic</td>\n",
              "      <td>0.333333</td>\n",
              "    </tr>\n",
              "  </tbody>\n",
              "</table>\n",
              "</div>"
            ],
            "text/plain": [
              "        blunt    cap   dual    erm    pen    tuf        gene        gc\n",
              "pos                                                                   \n",
              "2         NaN    NaN    NaN    0.0    NaN    NaN         NaN       NaN\n",
              "40683   211.0   80.0   91.0   68.0   81.0   67.0      gene35  0.264706\n",
              "103869  214.0   42.0   50.0  155.0   31.0   69.0      gene90  0.264706\n",
              "132578  202.0   70.0   99.0  194.0  107.0  157.0     gene116  0.274510\n",
              "141339  348.0  136.0  140.0  362.0  128.0  253.0  intergenic  0.333333"
            ]
          },
          "metadata": {
            "tags": []
          },
          "execution_count": 211
        }
      ]
    },
    {
      "metadata": {
        "id": "JzR6KuCUqloh",
        "colab_type": "code",
        "colab": {
          "base_uri": "https://localhost:8080/",
          "height": 235
        },
        "outputId": "90e86423-42d1-46ca-c4ae-717fdd60a0cc"
      },
      "cell_type": "code",
      "source": [
        "import numpy as np\n",
        "df.loc[:,'blunt':'tuf'].apply(np.cumsum).head()"
      ],
      "execution_count": 215,
      "outputs": [
        {
          "output_type": "execute_result",
          "data": {
            "text/html": [
              "<div>\n",
              "<style scoped>\n",
              "    .dataframe tbody tr th:only-of-type {\n",
              "        vertical-align: middle;\n",
              "    }\n",
              "\n",
              "    .dataframe tbody tr th {\n",
              "        vertical-align: top;\n",
              "    }\n",
              "\n",
              "    .dataframe thead th {\n",
              "        text-align: right;\n",
              "    }\n",
              "</style>\n",
              "<table border=\"1\" class=\"dataframe\">\n",
              "  <thead>\n",
              "    <tr style=\"text-align: right;\">\n",
              "      <th></th>\n",
              "      <th>blunt</th>\n",
              "      <th>cap</th>\n",
              "      <th>dual</th>\n",
              "      <th>erm</th>\n",
              "      <th>pen</th>\n",
              "      <th>tuf</th>\n",
              "    </tr>\n",
              "    <tr>\n",
              "      <th>pos</th>\n",
              "      <th></th>\n",
              "      <th></th>\n",
              "      <th></th>\n",
              "      <th></th>\n",
              "      <th></th>\n",
              "      <th></th>\n",
              "    </tr>\n",
              "  </thead>\n",
              "  <tbody>\n",
              "    <tr>\n",
              "      <th>2</th>\n",
              "      <td>NaN</td>\n",
              "      <td>NaN</td>\n",
              "      <td>NaN</td>\n",
              "      <td>0.0</td>\n",
              "      <td>NaN</td>\n",
              "      <td>NaN</td>\n",
              "    </tr>\n",
              "    <tr>\n",
              "      <th>40683</th>\n",
              "      <td>211.0</td>\n",
              "      <td>80.0</td>\n",
              "      <td>91.0</td>\n",
              "      <td>68.0</td>\n",
              "      <td>81.0</td>\n",
              "      <td>67.0</td>\n",
              "    </tr>\n",
              "    <tr>\n",
              "      <th>103869</th>\n",
              "      <td>425.0</td>\n",
              "      <td>122.0</td>\n",
              "      <td>141.0</td>\n",
              "      <td>223.0</td>\n",
              "      <td>112.0</td>\n",
              "      <td>136.0</td>\n",
              "    </tr>\n",
              "    <tr>\n",
              "      <th>132578</th>\n",
              "      <td>627.0</td>\n",
              "      <td>192.0</td>\n",
              "      <td>240.0</td>\n",
              "      <td>417.0</td>\n",
              "      <td>219.0</td>\n",
              "      <td>293.0</td>\n",
              "    </tr>\n",
              "    <tr>\n",
              "      <th>141339</th>\n",
              "      <td>975.0</td>\n",
              "      <td>328.0</td>\n",
              "      <td>380.0</td>\n",
              "      <td>779.0</td>\n",
              "      <td>347.0</td>\n",
              "      <td>546.0</td>\n",
              "    </tr>\n",
              "  </tbody>\n",
              "</table>\n",
              "</div>"
            ],
            "text/plain": [
              "        blunt    cap   dual    erm    pen    tuf\n",
              "pos                                             \n",
              "2         NaN    NaN    NaN    0.0    NaN    NaN\n",
              "40683   211.0   80.0   91.0   68.0   81.0   67.0\n",
              "103869  425.0  122.0  141.0  223.0  112.0  136.0\n",
              "132578  627.0  192.0  240.0  417.0  219.0  293.0\n",
              "141339  975.0  328.0  380.0  779.0  347.0  546.0"
            ]
          },
          "metadata": {
            "tags": []
          },
          "execution_count": 215
        }
      ]
    },
    {
      "metadata": {
        "id": "yAztQ2isr3pQ",
        "colab_type": "text"
      },
      "cell_type": "markdown",
      "source": [
        "### Hostogramming\n",
        "See more at [Histogramming and Discretization](https://pandas.pydata.org/pandas-docs/stable/basics.html#basics-discretization):"
      ]
    },
    {
      "metadata": {
        "id": "99sKhF0erEGI",
        "colab_type": "code",
        "colab": {
          "base_uri": "https://localhost:8080/",
          "height": 697
        },
        "outputId": "8585211f-cc83-4960-e5bf-23f0d712c49a"
      },
      "cell_type": "code",
      "source": [
        "df['gene'].value_counts()"
      ],
      "execution_count": 217,
      "outputs": [
        {
          "output_type": "execute_result",
          "data": {
            "text/plain": [
              "intergenic    30\n",
              "gene2134       7\n",
              "gene929        5\n",
              "gene2010       5\n",
              "gene176        4\n",
              "gene1016       3\n",
              "gene172        3\n",
              "gene1342       3\n",
              "gene533        3\n",
              "gene2465       3\n",
              "gene2390       3\n",
              "gene2233       2\n",
              "gene1469       2\n",
              "gene673        2\n",
              "gene2195       2\n",
              "gene2787       2\n",
              "gene206        2\n",
              "gene1753       2\n",
              "gene90         1\n",
              "gene2209       1\n",
              "gene1364       1\n",
              "gene688        1\n",
              "gene313        1\n",
              "gene116        1\n",
              "gene2176       1\n",
              "gene35         1\n",
              "gene1516       1\n",
              "gene528        1\n",
              "gene2707       1\n",
              "gene443        1\n",
              "gene2764       1\n",
              "gene1751       1\n",
              "gene297        1\n",
              "gene275        1\n",
              "gene233        1\n",
              "gene2321       1\n",
              "gene2664       1\n",
              "gene932        1\n",
              "gene1833       1\n",
              "Name: gene, dtype: int64"
            ]
          },
          "metadata": {
            "tags": []
          },
          "execution_count": 217
        }
      ]
    },
    {
      "metadata": {
        "id": "GwftlZ0ssKAT",
        "colab_type": "code",
        "colab": {
          "base_uri": "https://localhost:8080/",
          "height": 481
        },
        "outputId": "7ee15dbe-e281-46f0-8be7-f2506552270a"
      },
      "cell_type": "code",
      "source": [
        "df.loc[:,'blunt':'tuf'].hist(bins=100, sharex=True, sharey=True)"
      ],
      "execution_count": 226,
      "outputs": [
        {
          "output_type": "execute_result",
          "data": {
            "text/plain": [
              "array([[<matplotlib.axes._subplots.AxesSubplot object at 0x7fe4880c2240>,\n",
              "        <matplotlib.axes._subplots.AxesSubplot object at 0x7fe4880b09e8>],\n",
              "       [<matplotlib.axes._subplots.AxesSubplot object at 0x7fe488022cf8>,\n",
              "        <matplotlib.axes._subplots.AxesSubplot object at 0x7fe487ff6400>],\n",
              "       [<matplotlib.axes._subplots.AxesSubplot object at 0x7fe488018ac8>,\n",
              "        <matplotlib.axes._subplots.AxesSubplot object at 0x7fe487fc71d0>]],\n",
              "      dtype=object)"
            ]
          },
          "metadata": {
            "tags": []
          },
          "execution_count": 226
        },
        {
          "output_type": "display_data",
          "data": {
            "image/png": "[encoded data removed]",
            "text/plain": [
              "<Figure size 576x396 with 6 Axes>"
            ]
          },
          "metadata": {
            "tags": []
          }
        }
      ]
    },
    {
      "metadata": {
        "id": "KPDn3vY5tsWQ",
        "colab_type": "text"
      },
      "cell_type": "markdown",
      "source": [
        "### String Methods\n",
        "Series is equipped with a set of string processing methods in the str attribute that make it easy to operate on each element of the array, as in the code snippet below. Note that pattern-matching in str generally uses [regular expressions](https://docs.python.org/3/library/re.html) by default (and in some cases always uses them). See more at [Vectorized String Methods](https://pandas.pydata.org/pandas-docs/stable/text.html#text-string-methods):"
      ]
    },
    {
      "metadata": {
        "id": "9STktS3psgMG",
        "colab_type": "code",
        "colab": {
          "base_uri": "https://localhost:8080/",
          "height": 136
        },
        "outputId": "19fdeb53-d062-4e83-f094-db5b81d7ca52"
      },
      "cell_type": "code",
      "source": [
        "df['gene'].str.upper().head()"
      ],
      "execution_count": 230,
      "outputs": [
        {
          "output_type": "execute_result",
          "data": {
            "text/plain": [
              "pos\n",
              "2                NaN\n",
              "40683         GENE35\n",
              "103869        GENE90\n",
              "132578       GENE116\n",
              "141339    INTERGENIC\n",
              "Name: gene, dtype: object"
            ]
          },
          "metadata": {
            "tags": []
          },
          "execution_count": 230
        }
      ]
    },
    {
      "metadata": {
        "id": "VS6KJ-IXwnnp",
        "colab_type": "text"
      },
      "cell_type": "markdown",
      "source": [
        "In the next lecture we will learn how to process data in a number of interesting ways"
      ]
    },
    {
      "metadata": {
        "id": "gt48MB0BwwIg",
        "colab_type": "code",
        "colab": {}
      },
      "cell_type": "code",
      "source": [
        ""
      ],
      "execution_count": 0,
      "outputs": []
    }
  ]
}